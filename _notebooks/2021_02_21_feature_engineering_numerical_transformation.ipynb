{
  "nbformat": 4,
  "nbformat_minor": 0,
  "metadata": {
    "colab": {
      "name": "2021-02-21_feature_engineering_numerical_transformation.ipynb",
      "provenance": [],
      "collapsed_sections": [],
      "authorship_tag": "ABX9TyPzcrZL/syMKmRKw9u7dJCK",
      "include_colab_link": true
    },
    "kernelspec": {
      "name": "python3",
      "display_name": "Python 3"
    }
  },
  "cells": [
    {
      "cell_type": "markdown",
      "metadata": {
        "id": "view-in-github",
        "colab_type": "text"
      },
      "source": [
        "<a href=\"https://colab.research.google.com/github/patrick-hanley/thought_experiments/blob/master/_notebooks/2021_02_21_feature_engineering_numerical_transformation.ipynb\" target=\"_parent\"><img src=\"https://colab.research.google.com/assets/colab-badge.svg\" alt=\"Open In Colab\"/></a>"
      ]
    },
    {
      "cell_type": "markdown",
      "metadata": {
        "id": "O_b68HJldUOT"
      },
      "source": [
        "# \"Useful tools for transforming the input features\"\n",
        "> \"Incredibly usefull tool to analyze and preprocess data for a deep neural network\"\n",
        "\n",
        "\n",
        "- toc: true\n",
        "- branch: master\n",
        "- badges: false\n",
        "- comments: true\n",
        "- hide: false\n",
        "- search_exclude: true\n",
        "- metadata_key1: metadata_value1\n",
        "- metadata_key2: metadata_value2"
      ]
    },
    {
      "cell_type": "markdown",
      "metadata": {
        "id": "4RuPDKSuPY50"
      },
      "source": [
        "#    ![img]{{ site.baseurl }}/images/wine_dataset/skew_alcohol.png)"
      ]
    },
    {
      "cell_type": "code",
      "metadata": {
        "colab": {
          "base_uri": "https://localhost:8080/"
        },
        "id": "NDlgc5B2SjUs",
        "outputId": "5534df13-561a-4a47-a63f-c81fe9f8424e"
      },
      "source": [
        "#hide\n",
        "# Standard Library Imports\n",
        "\n",
        "%reload_ext autoreload\n",
        "%autoreload 2\n",
        "%matplotlib inline\n",
        "\n",
        "!pip install fastai --upgrade --q\n",
        "from pathlib import Path\n",
        "from pandas.api.types import is_string_dtype, is_numeric_dtype, is_categorical_dtype\n",
        "from fastai.tabular.all import *\n",
        "import matplotlib.pyplot as plt\n",
        "\n",
        "from sklearn.preprocessing import PowerTransformer\n",
        "from sklearn.preprocessing import QuantileTransformer\n",
        "from sklearn.model_selection import train_test_split\n",
        "import pandas as pd\n",
        "from sklearn.preprocessing import PowerTransformer\n",
        "from sklearn.preprocessing import QuantileTransformer\n",
        "import numpy as np\n",
        "from scipy.stats import kurtosis, skew\n",
        "from scipy import stats\n",
        "import math\n",
        "import warnings\n",
        "warnings.filterwarnings(\"error\")\n",
        "\n",
        "from google.colab import drive\n",
        "mnt=drive.mount('/content/gdrive', force_remount=True)\n",
        "\n"
      ],
      "execution_count": null,
      "outputs": [
        {
          "output_type": "stream",
          "text": [
            "\u001b[K     |████████████████████████████████| 194kB 6.0MB/s \n",
            "\u001b[K     |████████████████████████████████| 61kB 7.3MB/s \n",
            "\u001b[?25hMounted at /content/gdrive\n"
          ],
          "name": "stdout"
        }
      ]
    },
    {
      "cell_type": "markdown",
      "metadata": {
        "id": "rwhlcCTSl2QH"
      },
      "source": [
        "# I will explore the transformations using the [wine data set](https://www.kaggle.com/uciml/red-wine-quality-cortez-et-al-2009) from Kaggle."
      ]
    },
    {
      "cell_type": "code",
      "metadata": {
        "id": "hFQsnjKCTdFL"
      },
      "source": [
        "#hide\n",
        "root_dir = \"/content/gdrive/My Drive/\"\n",
        "base_dir = root_dir + 'redwine'\n",
        "csv_path = (base_dir+'/winequality-red.csv')\n",
        "df=pd.read_csv(csv_path)"
      ],
      "execution_count": null,
      "outputs": []
    },
    {
      "cell_type": "markdown",
      "metadata": {
        "id": "WwTaawr3m1pC"
      },
      "source": [
        "# The following numerical transformations will be evaluated on the dataset:\n",
        "\n",
        "\n",
        "*   Log \n",
        "*   Square Root\n",
        "*   Box-Cox\n",
        "*   Yeo-Yohnson\n",
        "*   Quantile\n",
        "*   Clipping\n",
        "\n"
      ]
    },
    {
      "cell_type": "code",
      "metadata": {
        "id": "I4W0sulMTjwM"
      },
      "source": [
        "#hide\n",
        "\n",
        "# https://www.marsja.se/transform-skewed-data-using-square-root-log-box-cox-methods-in-python/\n",
        "def box_cox_transform(bc, X_train, X_test):\n",
        "  \n",
        "  try:\n",
        "    X_trans_bc = bc.fit(X_train).transform(X_test)\n",
        "  except:\n",
        "    # datax = max(X_train+1) - X_train\n",
        "    # datay = max(X_train+1) - X_train\n",
        "    datax, datay = reverse_distribution(X_train, X_test)\n",
        "    X_trans_bc = bc.fit(datax).transform(datay)\n",
        "  return X_trans_bc\n",
        "\n",
        "def log_transform(x):\n",
        "  try:\n",
        "    X_trans = np.log(x)\n",
        "  except:\n",
        "    datax, datay = reverse_distribution(x, x)\n",
        "    X_trans = np.log(datax)\n",
        "  return X_trans\n",
        "\n",
        "def sqrt_transform(x):\n",
        "  return np.sqrt(x)\n",
        "\n",
        "def reverse_distribution(X_train, X_test):\n",
        "  # data can not have negative values\n",
        "  datax = max(X_train+1) - X_train\n",
        "  datay = max(X_test+1) - X_test\n",
        "  return (datax, datay)\n",
        "\n",
        "def get_stats(trns_name, data):\n",
        "  s = skew(data)\n",
        "  s_str = '%.2f'%(s)\n",
        "  k = '%.2f'%(kurtosis(data))\n",
        "  k2, p = stats.normaltest(data)\n",
        "  ks = '%.2f'%(k2)\n",
        "  # pvalue = '%.2f'%(p)\n",
        "  title = \"\\n\".join([trns_name, s_str, k, ks])\n",
        "  return (s, k2, title)\n",
        "\n",
        "def plot_transforms(df, feat, log=False):\n",
        "  #rng = np.random.RandomState(304)\n",
        "  N_SAMPLES = 1000\n",
        "  FONT_SIZE = 10\n",
        "  BINS = 100\n",
        "  # initialize models\n",
        "  bc = PowerTransformer(method='box-cox')\n",
        "  yj = PowerTransformer(method='yeo-johnson')\n",
        "  # n_quantiles is set to the training set size rather than the default value\n",
        "  # to avoid a warning being raised by this example\n",
        "  qt = QuantileTransformer(n_quantiles=500, output_distribution='normal',\n",
        "                          random_state=0)\n",
        "  X=df.iloc[:,feat]\n",
        "  print (df.columns[feat], X.nunique())\n",
        "  \n",
        "\n",
        "  if len(X.unique())> 10:\n",
        "    X = X.values.reshape(-1, 1)\n",
        "\n",
        "\n",
        "    # perform power transforms and quantile transform\n",
        "    X_trans_bc = box_cox_transform(bc, X, X) # bc.fit(X_train).transform(X_test)\n",
        "\n",
        "    X_trans_yj = yj.fit(X).transform(X)\n",
        "\n",
        "    X_trans_qt = qt.fit(X).transform(X)\n",
        "\n",
        "    X_trans_sqrt = sqrt_transform(X)\n",
        "\n",
        "    X_trans_log = log_transform(X)\n",
        "\n",
        "    transforms = [X, X_trans_bc, X_trans_yj, X_trans_qt, X_trans_sqrt,\n",
        "                  X_trans_log]\n",
        "    titles = ['train', 'trans_bc', 'trans_yj', 'trans_qt', \n",
        "              'trans_sqrt', 'trans_log']\n",
        "\n",
        "  else:\n",
        "    X = X.values.reshape(-1, 1)\n",
        "    transforms = [X]\n",
        "    titles = ['X_train']\n",
        "\n",
        "\n",
        "  #Set up fix and axes for plotting\n",
        "  fig, axes = plt.subplots(nrows=1, ncols=6, figsize=plt.figaspect(.2), \n",
        "                           sharey=True)\n",
        "\n",
        "  # trackers for skew and kurtosis\n",
        "  s_best = 9999.\n",
        "  k_best= 9999.\n",
        "  title_best=[]\n",
        "  best_model=''\n",
        "  for t, ax, trns_name in zip(transforms, axes, titles):\n",
        "    \n",
        "    # histogram each model\n",
        "    ax.hist(t, bins=BINS, log=log, range=(np.nanmin(t), np.nanmax(t)))\n",
        "    \n",
        "    # analyze distribution\n",
        "    s, k2, title = get_stats(trns_name, t)\n",
        "\n",
        "\n",
        "    # find best skew, then best kurtosis\n",
        "    if abs(s) < s_best:\n",
        "      title_best = title\n",
        "      t_best = t\n",
        "      s_best = abs(s)\n",
        "      best_model = trns_name\n",
        "    elif abs(s)==s_best:\n",
        "      if abs(k2) < k_best:\n",
        "        title_best = title\n",
        "        k_best = abs(k2)\n",
        "        t_best=t\n",
        "        best_model = trns_name\n",
        "    \n",
        "    title = \"\\n\".join([df.columns[feat], title])\n",
        "    ax.set_title(title, fontsize=FONT_SIZE)\n",
        "\n",
        "  col = '_'.join([df.columns[feat], best_model]) \n",
        "  \n",
        "  transfored_df = pd.DataFrame(t_best, columns=[col])\n",
        "\n",
        "  print (\"Best:{}\".format(best_model))\n",
        "  plt.show()\n",
        "\n",
        "  # return transformed array from the best model\n",
        "  return (transfored_df)\n",
        "\n",
        "def remove_outliers(X):\n",
        "  mean = np.mean(X)\n",
        "  standard_deviation = np.std(X)\n",
        "  distance_from_mean = abs(X - mean)\n",
        "  max_deviations = 1.5\n",
        "  not_outlier = distance_from_mean < max_deviations * standard_deviation\n",
        "  no_outliers = X[not_outlier]\n",
        "  return no_outliers\n",
        "\n",
        "\n",
        "\n",
        "def clip_feature(df, max_deviations=2, type='std'):\n",
        "  \"\"\"provide dataFrame and get a clipped daataframe back including 2 additional\n",
        "  columns indicating the index of clippage.\n",
        "  \"\"\"\n",
        "\n",
        "  clipped_dfs = []\n",
        "  for feature in df.columns:\n",
        "\n",
        "    mean = df[feature].mean()\n",
        "    standard_deviation = df[feature].std()\n",
        "\n",
        "    upper = mean + (max_deviations * standard_deviation)\n",
        "    lower = mean - (max_deviations * standard_deviation)\n",
        "    val = df[feature].values\n",
        "\n",
        "    if type == 'std':\n",
        "      lower_value = lower\n",
        "      upper_value = upper\n",
        "      V = np.clip(val, lower_value, upper_value, out=None)\n",
        "    elif type == 'mean':\n",
        "      lower_value = mean\n",
        "      upper_value = mean\n",
        "      V = np.where((val<lower)|(val>upper), mean, val)\n",
        "      \n",
        "    elif type == 'median':\n",
        "      median = df[feature].median()\n",
        "      lower_value = median\n",
        "      upper_value = median\n",
        "      V = np.where((val<lower)|(val>upper), median, val)\n",
        "\n",
        "    #V = np.clip(val, lower_value, upper_value, out=None)\n",
        "    clip_low = np.where(val<lower, True, False)\n",
        "    clip_high = np.where(val>upper, True, False)\n",
        "\n",
        "    #confirm the series was clipped\n",
        "    len_low = len(np.unique(clip_low, return_counts=True)[1])\n",
        "    len_high = len(np.unique(clip_high, return_counts=True)[1])\n",
        "\n",
        "    if (len_low)>1 or (len_high)>1:\n",
        "      clipped_name = '_'.join(['clip', type, str(max_deviations), feature])\n",
        "      is_clipped_low = '_'.join(['IS_CLIP_LOW', type, str(max_deviations), feature])\n",
        "      is_clipped_high = '_'.join(['IS_CLIP_HIGH', type, str(max_deviations), feature])\n",
        "      dv=pd.DataFrame({clipped_name:V, is_clipped_low:clip_low, is_clipped_high:clip_high} )\n",
        "    \n",
        "      clipped_dfs.append(dv)\n",
        "  clipped_dfs = pd.concat(clipped_dfs, axis=1)\n",
        "  return clipped_dfs\n",
        "\n",
        "\n",
        "\n",
        "# I came across this funtion on Kaggle(I think) and found it incredibly helpful\n",
        "# https://gist.github.com/harperfu6/5ea565ee23aaf8461a840c480490cd9a\n",
        "from scipy import stats\n",
        "pd.set_option(\"display.max_rows\", 1000)\n",
        "def resumetable(df):\n",
        "    print(f'Dataset Shape: {df.shape}')\n",
        "    summary = pd.DataFrame(df.dtypes, columns=['dtypes'])\n",
        "    summary = summary.reset_index()\n",
        "    summary['Name'] = summary['index']\n",
        "    summary = summary[['Name', 'dtypes']]\n",
        "    summary['Missing'] = df.isnull().sum().values\n",
        "    summary['Uniques'] = df.nunique().values\n",
        "    summary['First Value'] = df.loc[0].values\n",
        "    summary['Second Value'] = df.loc[1].values\n",
        "    summary['Third Value'] = df.loc[2].values\n",
        "    \n",
        "    for name in summary['Name'].value_counts().index:\n",
        "        summary.loc[summary['Name'] == name, 'Entropy'] = \\\n",
        "        round(stats.entropy(df[name].value_counts(normalize=True), base=2), 2)\n",
        "    \n",
        "    return summary\n",
        "\n",
        "def random_seed(seed_value, use_cuda):\n",
        "    np.random.seed(seed_value) # cpu vars\n",
        "    torch.manual_seed(seed_value) # cpu  vars\n",
        "    random.seed(seed_value) # Python\n",
        "    if use_cuda: \n",
        "        torch.cuda.manual_seed(seed_value)\n",
        "        torch.cuda.manual_seed_all(seed_value) # gpu vars\n",
        "        torch.backends.cudnn.deterministic = True  #needed\n",
        "        torch.backends.cudnn.benchmark = False"
      ],
      "execution_count": null,
      "outputs": []
    },
    {
      "cell_type": "markdown",
      "metadata": {
        "id": "L-IvgsetU7Sp"
      },
      "source": [
        "# Lets take a quick look at our data.\n",
        "\n",
        "*   11 features and 1 target\n",
        "*   1600 rows of data\n",
        "\n",
        "For a more in depth analysis see the previous blog XXXX.\n",
        "\n"
      ]
    },
    {
      "cell_type": "code",
      "metadata": {
        "colab": {
          "base_uri": "https://localhost:8080/",
          "height": 425
        },
        "id": "0l-sIO-YUMww",
        "outputId": "ad7dc3e5-74c5-4d34-fc23-8fce2a9cc4df"
      },
      "source": [
        "#hide\n",
        "resumetable(df)"
      ],
      "execution_count": null,
      "outputs": [
        {
          "output_type": "stream",
          "text": [
            "Dataset Shape: (1599, 12)\n"
          ],
          "name": "stdout"
        },
        {
          "output_type": "execute_result",
          "data": {
            "text/html": [
              "<div>\n",
              "<style scoped>\n",
              "    .dataframe tbody tr th:only-of-type {\n",
              "        vertical-align: middle;\n",
              "    }\n",
              "\n",
              "    .dataframe tbody tr th {\n",
              "        vertical-align: top;\n",
              "    }\n",
              "\n",
              "    .dataframe thead th {\n",
              "        text-align: right;\n",
              "    }\n",
              "</style>\n",
              "<table border=\"1\" class=\"dataframe\">\n",
              "  <thead>\n",
              "    <tr style=\"text-align: right;\">\n",
              "      <th></th>\n",
              "      <th>Name</th>\n",
              "      <th>dtypes</th>\n",
              "      <th>Missing</th>\n",
              "      <th>Uniques</th>\n",
              "      <th>First Value</th>\n",
              "      <th>Second Value</th>\n",
              "      <th>Third Value</th>\n",
              "      <th>Entropy</th>\n",
              "    </tr>\n",
              "  </thead>\n",
              "  <tbody>\n",
              "    <tr>\n",
              "      <th>0</th>\n",
              "      <td>fixed acidity</td>\n",
              "      <td>float64</td>\n",
              "      <td>0</td>\n",
              "      <td>96</td>\n",
              "      <td>7.4000</td>\n",
              "      <td>7.8000</td>\n",
              "      <td>7.800</td>\n",
              "      <td>5.94</td>\n",
              "    </tr>\n",
              "    <tr>\n",
              "      <th>1</th>\n",
              "      <td>volatile acidity</td>\n",
              "      <td>float64</td>\n",
              "      <td>0</td>\n",
              "      <td>143</td>\n",
              "      <td>0.7000</td>\n",
              "      <td>0.8800</td>\n",
              "      <td>0.760</td>\n",
              "      <td>6.39</td>\n",
              "    </tr>\n",
              "    <tr>\n",
              "      <th>2</th>\n",
              "      <td>citric acid</td>\n",
              "      <td>float64</td>\n",
              "      <td>0</td>\n",
              "      <td>80</td>\n",
              "      <td>0.0000</td>\n",
              "      <td>0.0000</td>\n",
              "      <td>0.040</td>\n",
              "      <td>5.87</td>\n",
              "    </tr>\n",
              "    <tr>\n",
              "      <th>3</th>\n",
              "      <td>residual sugar</td>\n",
              "      <td>float64</td>\n",
              "      <td>0</td>\n",
              "      <td>91</td>\n",
              "      <td>1.9000</td>\n",
              "      <td>2.6000</td>\n",
              "      <td>2.300</td>\n",
              "      <td>4.78</td>\n",
              "    </tr>\n",
              "    <tr>\n",
              "      <th>4</th>\n",
              "      <td>chlorides</td>\n",
              "      <td>float64</td>\n",
              "      <td>0</td>\n",
              "      <td>153</td>\n",
              "      <td>0.0760</td>\n",
              "      <td>0.0980</td>\n",
              "      <td>0.092</td>\n",
              "      <td>6.22</td>\n",
              "    </tr>\n",
              "    <tr>\n",
              "      <th>5</th>\n",
              "      <td>free sulfur dioxide</td>\n",
              "      <td>float64</td>\n",
              "      <td>0</td>\n",
              "      <td>60</td>\n",
              "      <td>11.0000</td>\n",
              "      <td>25.0000</td>\n",
              "      <td>15.000</td>\n",
              "      <td>5.08</td>\n",
              "    </tr>\n",
              "    <tr>\n",
              "      <th>6</th>\n",
              "      <td>total sulfur dioxide</td>\n",
              "      <td>float64</td>\n",
              "      <td>0</td>\n",
              "      <td>144</td>\n",
              "      <td>34.0000</td>\n",
              "      <td>67.0000</td>\n",
              "      <td>54.000</td>\n",
              "      <td>6.60</td>\n",
              "    </tr>\n",
              "    <tr>\n",
              "      <th>7</th>\n",
              "      <td>density</td>\n",
              "      <td>float64</td>\n",
              "      <td>0</td>\n",
              "      <td>436</td>\n",
              "      <td>0.9978</td>\n",
              "      <td>0.9968</td>\n",
              "      <td>0.997</td>\n",
              "      <td>7.96</td>\n",
              "    </tr>\n",
              "    <tr>\n",
              "      <th>8</th>\n",
              "      <td>pH</td>\n",
              "      <td>float64</td>\n",
              "      <td>0</td>\n",
              "      <td>89</td>\n",
              "      <td>3.5100</td>\n",
              "      <td>3.2000</td>\n",
              "      <td>3.260</td>\n",
              "      <td>5.91</td>\n",
              "    </tr>\n",
              "    <tr>\n",
              "      <th>9</th>\n",
              "      <td>sulphates</td>\n",
              "      <td>float64</td>\n",
              "      <td>0</td>\n",
              "      <td>96</td>\n",
              "      <td>0.5600</td>\n",
              "      <td>0.6800</td>\n",
              "      <td>0.650</td>\n",
              "      <td>5.73</td>\n",
              "    </tr>\n",
              "    <tr>\n",
              "      <th>10</th>\n",
              "      <td>alcohol</td>\n",
              "      <td>float64</td>\n",
              "      <td>0</td>\n",
              "      <td>65</td>\n",
              "      <td>9.4000</td>\n",
              "      <td>9.8000</td>\n",
              "      <td>9.800</td>\n",
              "      <td>5.19</td>\n",
              "    </tr>\n",
              "    <tr>\n",
              "      <th>11</th>\n",
              "      <td>quality</td>\n",
              "      <td>int64</td>\n",
              "      <td>0</td>\n",
              "      <td>6</td>\n",
              "      <td>5.0000</td>\n",
              "      <td>5.0000</td>\n",
              "      <td>5.000</td>\n",
              "      <td>1.71</td>\n",
              "    </tr>\n",
              "  </tbody>\n",
              "</table>\n",
              "</div>"
            ],
            "text/plain": [
              "                    Name   dtypes  Missing  ...  Second Value  Third Value  Entropy\n",
              "0          fixed acidity  float64        0  ...        7.8000        7.800     5.94\n",
              "1       volatile acidity  float64        0  ...        0.8800        0.760     6.39\n",
              "2            citric acid  float64        0  ...        0.0000        0.040     5.87\n",
              "3         residual sugar  float64        0  ...        2.6000        2.300     4.78\n",
              "4              chlorides  float64        0  ...        0.0980        0.092     6.22\n",
              "5    free sulfur dioxide  float64        0  ...       25.0000       15.000     5.08\n",
              "6   total sulfur dioxide  float64        0  ...       67.0000       54.000     6.60\n",
              "7                density  float64        0  ...        0.9968        0.997     7.96\n",
              "8                     pH  float64        0  ...        3.2000        3.260     5.91\n",
              "9              sulphates  float64        0  ...        0.6800        0.650     5.73\n",
              "10               alcohol  float64        0  ...        9.8000        9.800     5.19\n",
              "11               quality    int64        0  ...        5.0000        5.000     1.71\n",
              "\n",
              "[12 rows x 8 columns]"
            ]
          },
          "metadata": {
            "tags": []
          },
          "execution_count": 4
        }
      ]
    },
    {
      "cell_type": "markdown",
      "metadata": {
        "id": "qTt_1LDIVkyp"
      },
      "source": [
        "I wanted a simple way to visualize the distributions of the feaatures and also quickly see how they could be transormed into a guasian distribution needed for neural networks.  I created a library that runs the Transforms listed above on each feature and automatically selects the optimal transform based on the skew and kurtosis.\n",
        "\n",
        "Let's see an example.  The plots below are only evaluating 1 feature ('alcohol'), however, in practice, we would do this for the entire dataset."
      ]
    },
    {
      "cell_type": "code",
      "metadata": {
        "colab": {
          "base_uri": "https://localhost:8080/",
          "height": 330
        },
        "id": "C4SwvTlBUOt2",
        "outputId": "6f353082-0ddf-4690-e84a-f2d5b118baa5"
      },
      "source": [
        "#hide\n",
        "trans_alcohol_df = plot_transforms(df, df.columns.get_loc('alcohol'), log=False)"
      ],
      "execution_count": null,
      "outputs": [
        {
          "output_type": "stream",
          "text": [
            "alcohol 65\n",
            "Best:trans_qt\n"
          ],
          "name": "stdout"
        },
        {
          "output_type": "display_data",
          "data": {
            "image/png": "[encoded data removed]",
            "text/plain": [
              "<Figure size 1152x230.4 with 6 Axes>"
            ]
          },
          "metadata": {
            "tags": [],
            "needs_background": "light"
          }
        }
      ]
    },
    {
      "cell_type": "markdown",
      "metadata": {
        "id": "8iTJ7Y5TB_Q4"
      },
      "source": [
        "!['did this work2?']({{ site.url }}{{ site.baseurl }}/images/wine_dataset/skew_alcohol.png)"
      ]
    },
    {
      "cell_type": "markdown",
      "metadata": {
        "id": "bkvAtK-kozqp"
      },
      "source": [
        "In the plot above, we visually see that the most gausian distribution came from the Quantile Transformation.  This is also the Transformation that was automatically selected based on skew and kertosis as the most optimum."
      ]
    },
    {
      "cell_type": "markdown",
      "metadata": {
        "id": "Iw78xOLwbgbR"
      },
      "source": [
        "Same data as above, but on a log scale"
      ]
    },
    {
      "cell_type": "code",
      "metadata": {
        "colab": {
          "base_uri": "https://localhost:8080/",
          "height": 330
        },
        "id": "ORA9uJ5qWcb6",
        "outputId": "e4e924e1-2060-462c-bd9c-26bdace93728"
      },
      "source": [
        "#hide\n",
        "_ = plot_transforms(df, df.columns.get_loc('alcohol'), log=True)"
      ],
      "execution_count": null,
      "outputs": [
        {
          "output_type": "stream",
          "text": [
            "alcohol 65\n",
            "Best:trans_qt\n"
          ],
          "name": "stdout"
        },
        {
          "output_type": "display_data",
          "data": {
            "image/png": "[encoded data removed]",
            "text/plain": [
              "<Figure size 1152x230.4 with 6 Axes>"
            ]
          },
          "metadata": {
            "tags": [],
            "needs_background": "light"
          }
        }
      ]
    },
    {
      "cell_type": "markdown",
      "metadata": {
        "id": "Uhb65QDRb8ks"
      },
      "source": [
        "Lets now clip the data to a limit of 2 standard deviations and then run it through the transforms.\n",
        "\n",
        "The Clip transformation does a few things.\n",
        "\n",
        "\n",
        "1.   Clips values to be within X number of standard deviations.\n",
        "2.   The values outside the range, will be adjusted to 1 of the 3 options:\n",
        ">*  X standard deviations\n",
        ">*  mean\n",
        ">*  median\n",
        "3.   Additional columns will be added to indicate if a value was clipped low or high.\n",
        "\n",
        "\n",
        "\n",
        "\n",
        "Let's see a sample output.\n"
      ]
    }
  ]
}