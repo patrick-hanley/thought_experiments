{
  "nbformat": 4,
  "nbformat_minor": 0,
  "metadata": {
    "colab": {
      "name": "2021-02-21_feature_engineering_numerical_transformation.ipynb",
      "provenance": [],
      "collapsed_sections": [],
      "authorship_tag": "ABX9TyME/B8k702uEhHAi00jj/2V",
      "include_colab_link": true
    },
    "kernelspec": {
      "name": "python3",
      "display_name": "Python 3"
    }
  },
  "cells": [
    {
      "cell_type": "markdown",
      "metadata": {
        "id": "view-in-github",
        "colab_type": "text"
      },
      "source": [
        "<a href=\"https://colab.research.google.com/github/patrick-hanley/thought_experiments/blob/master/_notebooks/2021_02_21_feature_engineering_numerical_transformation.ipynb\" target=\"_parent\"><img src=\"https://colab.research.google.com/assets/colab-badge.svg\" alt=\"Open In Colab\"/></a>"
      ]
    },
    {
      "cell_type": "markdown",
      "metadata": {
        "id": "O_b68HJldUOT"
      },
      "source": [
        "# \"Useful tools for transforming the input features\"\n",
        "> \"Incredibly usefull tool to analyze and preprocess data for a deep neural network\"\n",
        "\n",
        "\n",
        "- toc: false\n",
        "- branch: master\n",
        "- badges: false\n",
        "- comments: true\n",
        "- image: images/wine_dataset/iStock-615737086-768x512.jpg\n",
        "- hide: false\n",
        "- search_exclude: true\n",
        "- metadata_key1: metadata_value1\n",
        "- metadata_key2: metadata_value2"
      ]
    },
    {
      "cell_type": "markdown",
      "metadata": {
        "id": "zAXkW7Rzd5Aj"
      },
      "source": [
        "#![]({{ site.url }}{{ site.baseurl }}/images/wine_dataset/iStock-615737086-768x512.jpg)"
      ]
    },
    {
      "cell_type": "markdown",
      "metadata": {
        "id": "z92e2P7oN2lp"
      },
      "source": [
        "Load libraries"
      ]
    },
    {
      "cell_type": "code",
      "metadata": {
        "colab": {
          "base_uri": "https://localhost:8080/"
        },
        "id": "NDlgc5B2SjUs",
        "cellView": "form",
        "outputId": "e87da165-5162-48bc-d51a-3218d8615bf5"
      },
      "source": [
        "#@title\n",
        "#collapse_output\n",
        "# Standard Library Imports\n",
        "\n",
        "%reload_ext autoreload\n",
        "%autoreload 2\n",
        "%matplotlib inline\n",
        "\n",
        "!pip install fastai --upgrade --q\n",
        "from pathlib import Path\n",
        "from pandas.api.types import is_string_dtype, is_numeric_dtype, is_categorical_dtype\n",
        "from fastai.tabular.all import *\n",
        "import matplotlib.pyplot as plt\n",
        "\n",
        "from sklearn.preprocessing import PowerTransformer\n",
        "from sklearn.preprocessing import QuantileTransformer\n",
        "from sklearn.model_selection import train_test_split\n",
        "import pandas as pd\n",
        "from sklearn.preprocessing import PowerTransformer\n",
        "from sklearn.preprocessing import QuantileTransformer\n",
        "import numpy as np\n",
        "from scipy.stats import kurtosis, skew\n",
        "from scipy import stats\n",
        "import math\n",
        "import warnings\n",
        "warnings.filterwarnings(\"error\")\n",
        "\n",
        "from google.colab import drive\n",
        "mnt=drive.mount('/content/gdrive', force_remount=True)\n",
        "\n"
      ],
      "execution_count": 1,
      "outputs": [
        {
          "output_type": "stream",
          "text": [
            "\u001b[K     |████████████████████████████████| 194kB 5.9MB/s \n",
            "\u001b[K     |████████████████████████████████| 61kB 6.5MB/s \n",
            "\u001b[?25hMounted at /content/gdrive\n"
          ],
          "name": "stdout"
        }
      ]
    },
    {
      "cell_type": "markdown",
      "metadata": {
        "id": "rwhlcCTSl2QH"
      },
      "source": [
        "# I will explore the transformations using the [wine data set](https://www.kaggle.com/uciml/red-wine-quality-cortez-et-al-2009) from Kaggle."
      ]
    },
    {
      "cell_type": "markdown",
      "metadata": {
        "id": "ddqV7ohCONqv"
      },
      "source": [
        "Load dataset"
      ]
    },
    {
      "cell_type": "code",
      "metadata": {
        "id": "hFQsnjKCTdFL"
      },
      "source": [
        "#hide\n",
        "root_dir = \"/content/gdrive/My Drive/\"\n",
        "base_dir = root_dir + 'redwine'\n",
        "csv_path = (base_dir+'/winequality-red.csv')\n",
        "df=pd.read_csv(csv_path)"
      ],
      "execution_count": 2,
      "outputs": []
    },
    {
      "cell_type": "markdown",
      "metadata": {
        "id": "WwTaawr3m1pC"
      },
      "source": [
        "# The following numerical transformations will be evaluated on the dataset:\n",
        "\n",
        "\n",
        "*   Log \n",
        "*   Square Root\n",
        "*   Box-Cox\n",
        "*   Yeo-Yohnson\n",
        "*   Quantile\n",
        "*   Clipping\n",
        "\n"
      ]
    },
    {
      "cell_type": "code",
      "metadata": {
        "id": "I4W0sulMTjwM"
      },
      "source": [
        "#collapse\n",
        "\n",
        "# https://www.marsja.se/transform-skewed-data-using-square-root-log-box-cox-methods-in-python/\n",
        "def box_cox_transform(bc, X_train, X_test):\n",
        "  \n",
        "  try:\n",
        "    X_trans_bc = bc.fit(X_train).transform(X_test)\n",
        "  except:\n",
        "    # datax = max(X_train+1) - X_train\n",
        "    # datay = max(X_train+1) - X_train\n",
        "    datax, datay = reverse_distribution(X_train, X_test)\n",
        "    X_trans_bc = bc.fit(datax).transform(datay)\n",
        "  return X_trans_bc\n",
        "\n",
        "def log_transform(x):\n",
        "  try:\n",
        "    X_trans = np.log(x)\n",
        "  except:\n",
        "    datax, datay = reverse_distribution(x, x)\n",
        "    X_trans = np.log(datax)\n",
        "  return X_trans\n",
        "\n",
        "def sqrt_transform(x):\n",
        "  return np.sqrt(x)\n",
        "\n",
        "def reverse_distribution(X_train, X_test):\n",
        "  # data can not have negative values\n",
        "  datax = max(X_train+1) - X_train\n",
        "  datay = max(X_test+1) - X_test\n",
        "  return (datax, datay)\n",
        "\n",
        "def get_stats(trns_name, data):\n",
        "  s = skew(data)\n",
        "  s_str = '%.2f'%(s)\n",
        "  #vk = '%.2f'%(kurtosis(data))\n",
        "  k2, p = stats.normaltest(data)\n",
        "  ks = '%.2f'%(k2)\n",
        "  # pvalue = '%.2f'%(p)\n",
        "  title = \"\\n\".join([trns_name, s_str, ks])\n",
        "  return (s, k2, title)\n",
        "\n",
        "def plot_transforms(df, feat, log=False):\n",
        "  #rng = np.random.RandomState(304)\n",
        "  N_SAMPLES = 1000\n",
        "  FONT_SIZE = 12\n",
        "  BINS = 100\n",
        "  # initialize models\n",
        "  bc = PowerTransformer(method='box-cox')\n",
        "  yj = PowerTransformer(method='yeo-johnson')\n",
        "  # n_quantiles is set to the training set size rather than the default value\n",
        "  # to avoid a warning being raised by this example\n",
        "  qt = QuantileTransformer(n_quantiles=500, output_distribution='normal',\n",
        "                          random_state=0)\n",
        "  X=df.iloc[:,feat]\n",
        "  print (df.columns[feat], X.nunique())\n",
        "  \n",
        "\n",
        "  if len(X.unique())> 10:\n",
        "    X = X.values.reshape(-1, 1)\n",
        "\n",
        "\n",
        "    # perform power transforms and quantile transform\n",
        "    X_trans_bc = box_cox_transform(bc, X, X) # bc.fit(X_train).transform(X_test)\n",
        "\n",
        "    X_trans_yj = yj.fit(X).transform(X)\n",
        "\n",
        "    X_trans_qt = qt.fit(X).transform(X)\n",
        "\n",
        "    X_trans_sqrt = sqrt_transform(X)\n",
        "\n",
        "    X_trans_log = log_transform(X)\n",
        "\n",
        "    transforms = [X, X_trans_bc, X_trans_yj, X_trans_qt, X_trans_sqrt,\n",
        "                  X_trans_log]\n",
        "    titles = ['train', 'trans_bc', 'trans_yj', 'trans_qt', \n",
        "              'trans_sqrt', 'trans_log']\n",
        "\n",
        "  else:\n",
        "    X = X.values.reshape(-1, 1)\n",
        "    transforms = [X]\n",
        "    titles = ['X_train']\n",
        "\n",
        "\n",
        "  #Set up fix and axes for plotting\n",
        "  fig, axes = plt.subplots(nrows=1, ncols=6, figsize=plt.figaspect(.2), \n",
        "                           sharey=True)\n",
        "\n",
        "  # trackers for skew and kurtosis\n",
        "  s_best = 9999.\n",
        "  k_best= 9999.\n",
        "  title_best=[]\n",
        "  best_model=''\n",
        "  for t, ax, trns_name in zip(transforms, axes, titles):\n",
        "    \n",
        "    # histogram each model\n",
        "    ax.hist(t, bins=BINS, log=log, range=(np.nanmin(t), np.nanmax(t)))\n",
        "    \n",
        "    # analyze distribution\n",
        "    s, k2, title = get_stats(trns_name, t)\n",
        "\n",
        "\n",
        "    # find best skew, then best kurtosis\n",
        "    if abs(s) < s_best:\n",
        "      title_best = title\n",
        "      t_best = t\n",
        "      s_best = abs(s)\n",
        "      best_model = trns_name\n",
        "      best_ax = ax\n",
        "    elif abs(s)==s_best:\n",
        "      if abs(k2) < k_best:\n",
        "        title_best = title\n",
        "        k_best = abs(k2)\n",
        "        t_best=t\n",
        "        best_model = trns_name\n",
        "        best_ax = ax\n",
        "    \n",
        "    title = \"\\n\".join([df.columns[feat], title])\n",
        "    ax.set_title(title, fontsize=FONT_SIZE)\n",
        "\n",
        "  col = '_'.join([df.columns[feat], best_model]) \n",
        "  \n",
        "  transfored_df = pd.DataFrame(t_best, columns=[col])\n",
        "\n",
        "  print (\"Best:{}\".format(best_model))\n",
        "  best_ax.set_facecolor('pink')\n",
        "  plt.show()\n",
        "\n",
        "  # return transformed array from the best model\n",
        "  return (transfored_df)\n",
        "\n",
        "def remove_outliers(X):\n",
        "  mean = np.mean(X)\n",
        "  standard_deviation = np.std(X)\n",
        "  distance_from_mean = abs(X - mean)\n",
        "  max_deviations = 1.5\n",
        "  not_outlier = distance_from_mean < max_deviations * standard_deviation\n",
        "  no_outliers = X[not_outlier]\n",
        "  return no_outliers\n",
        "\n",
        "\n",
        "\n",
        "def clip_feature(df, max_deviations=2, type='std'):\n",
        "  \"\"\"provide dataFrame and get a clipped daataframe back including 2 additional\n",
        "  columns indicating the index of clippage.\n",
        "  \"\"\"\n",
        "\n",
        "  clipped_dfs = []\n",
        "  for feature in df.columns:\n",
        "\n",
        "    mean = df[feature].mean()\n",
        "    standard_deviation = df[feature].std()\n",
        "\n",
        "    upper = mean + (max_deviations * standard_deviation)\n",
        "    lower = mean - (max_deviations * standard_deviation)\n",
        "    val = df[feature].values\n",
        "\n",
        "    if type == 'std':\n",
        "      lower_value = lower\n",
        "      upper_value = upper\n",
        "      V = np.clip(val, lower_value, upper_value, out=None)\n",
        "    elif type == 'mean':\n",
        "      lower_value = mean\n",
        "      upper_value = mean\n",
        "      V = np.where((val<lower)|(val>upper), mean, val)\n",
        "      \n",
        "    elif type == 'median':\n",
        "      median = df[feature].median()\n",
        "      lower_value = median\n",
        "      upper_value = median\n",
        "      V = np.where((val<lower)|(val>upper), median, val)\n",
        "\n",
        "    #V = np.clip(val, lower_value, upper_value, out=None)\n",
        "    clip_low = np.where(val<lower, True, False)\n",
        "    clip_high = np.where(val>upper, True, False)\n",
        "\n",
        "    #confirm the series was clipped\n",
        "    len_low = len(np.unique(clip_low, return_counts=True)[1])\n",
        "    len_high = len(np.unique(clip_high, return_counts=True)[1])\n",
        "\n",
        "    if (len_low)>1 or (len_high)>1:\n",
        "      clipped_name = '_'.join(['clip', type, str(max_deviations), feature])\n",
        "      is_clipped_low = '_'.join(['IS_CLIP_LOW', type, str(max_deviations), feature])\n",
        "      is_clipped_high = '_'.join(['IS_CLIP_HIGH', type, str(max_deviations), feature])\n",
        "      dv=pd.DataFrame({clipped_name:V, is_clipped_low:clip_low, is_clipped_high:clip_high} )\n",
        "    \n",
        "      clipped_dfs.append(dv)\n",
        "  clipped_dfs = pd.concat(clipped_dfs, axis=1)\n",
        "  return clipped_dfs\n",
        "\n",
        "\n",
        "\n",
        "# I came across this funtion on Kaggle(I think) and found it incredibly helpful\n",
        "# https://gist.github.com/harperfu6/5ea565ee23aaf8461a840c480490cd9a\n",
        "from scipy import stats\n",
        "pd.set_option(\"display.max_rows\", 1000)\n",
        "def resumetable(df):\n",
        "    print(f'Dataset Shape: {df.shape}')\n",
        "    summary = pd.DataFrame(df.dtypes, columns=['dtypes'])\n",
        "    summary = summary.reset_index()\n",
        "    summary['Name'] = summary['index']\n",
        "    summary = summary[['Name', 'dtypes']]\n",
        "    summary['Missing'] = df.isnull().sum().values\n",
        "    summary['Uniques'] = df.nunique().values\n",
        "    summary['First Value'] = df.loc[0].values\n",
        "    summary['Second Value'] = df.loc[1].values\n",
        "    summary['Third Value'] = df.loc[2].values\n",
        "    \n",
        "    for name in summary['Name'].value_counts().index:\n",
        "        summary.loc[summary['Name'] == name, 'Entropy'] = \\\n",
        "        round(stats.entropy(df[name].value_counts(normalize=True), base=2), 2)\n",
        "    \n",
        "    return summary\n",
        "\n",
        "def random_seed(seed_value, use_cuda):\n",
        "    np.random.seed(seed_value) # cpu vars\n",
        "    torch.manual_seed(seed_value) # cpu  vars\n",
        "    random.seed(seed_value) # Python\n",
        "    if use_cuda: \n",
        "        torch.cuda.manual_seed(seed_value)\n",
        "        torch.cuda.manual_seed_all(seed_value) # gpu vars\n",
        "        torch.backends.cudnn.deterministic = True  #needed\n",
        "        torch.backends.cudnn.benchmark = False"
      ],
      "execution_count": 12,
      "outputs": []
    },
    {
      "cell_type": "markdown",
      "metadata": {
        "id": "L-IvgsetU7Sp"
      },
      "source": [
        "# Lets take a quick look at our data.\n",
        "\n",
        "*   11 features and 1 target\n",
        "*   1600 rows of data\n",
        "\n",
        "For a more in depth analysis see the previous blog XXXX.\n",
        "\n"
      ]
    },
    {
      "cell_type": "code",
      "metadata": {
        "colab": {
          "base_uri": "https://localhost:8080/",
          "height": 425
        },
        "id": "0l-sIO-YUMww",
        "outputId": "8010f000-02ac-4d42-f756-bfc9a20a2547"
      },
      "source": [
        "#collapse\n",
        "resumetable(df)"
      ],
      "execution_count": 13,
      "outputs": [
        {
          "output_type": "stream",
          "text": [
            "Dataset Shape: (1599, 12)\n"
          ],
          "name": "stdout"
        },
        {
          "output_type": "execute_result",
          "data": {
            "text/html": [
              "<div>\n",
              "<style scoped>\n",
              "    .dataframe tbody tr th:only-of-type {\n",
              "        vertical-align: middle;\n",
              "    }\n",
              "\n",
              "    .dataframe tbody tr th {\n",
              "        vertical-align: top;\n",
              "    }\n",
              "\n",
              "    .dataframe thead th {\n",
              "        text-align: right;\n",
              "    }\n",
              "</style>\n",
              "<table border=\"1\" class=\"dataframe\">\n",
              "  <thead>\n",
              "    <tr style=\"text-align: right;\">\n",
              "      <th></th>\n",
              "      <th>Name</th>\n",
              "      <th>dtypes</th>\n",
              "      <th>Missing</th>\n",
              "      <th>Uniques</th>\n",
              "      <th>First Value</th>\n",
              "      <th>Second Value</th>\n",
              "      <th>Third Value</th>\n",
              "      <th>Entropy</th>\n",
              "    </tr>\n",
              "  </thead>\n",
              "  <tbody>\n",
              "    <tr>\n",
              "      <th>0</th>\n",
              "      <td>fixed acidity</td>\n",
              "      <td>float64</td>\n",
              "      <td>0</td>\n",
              "      <td>96</td>\n",
              "      <td>7.4000</td>\n",
              "      <td>7.8000</td>\n",
              "      <td>7.800</td>\n",
              "      <td>5.94</td>\n",
              "    </tr>\n",
              "    <tr>\n",
              "      <th>1</th>\n",
              "      <td>volatile acidity</td>\n",
              "      <td>float64</td>\n",
              "      <td>0</td>\n",
              "      <td>143</td>\n",
              "      <td>0.7000</td>\n",
              "      <td>0.8800</td>\n",
              "      <td>0.760</td>\n",
              "      <td>6.39</td>\n",
              "    </tr>\n",
              "    <tr>\n",
              "      <th>2</th>\n",
              "      <td>citric acid</td>\n",
              "      <td>float64</td>\n",
              "      <td>0</td>\n",
              "      <td>80</td>\n",
              "      <td>0.0000</td>\n",
              "      <td>0.0000</td>\n",
              "      <td>0.040</td>\n",
              "      <td>5.87</td>\n",
              "    </tr>\n",
              "    <tr>\n",
              "      <th>3</th>\n",
              "      <td>residual sugar</td>\n",
              "      <td>float64</td>\n",
              "      <td>0</td>\n",
              "      <td>91</td>\n",
              "      <td>1.9000</td>\n",
              "      <td>2.6000</td>\n",
              "      <td>2.300</td>\n",
              "      <td>4.78</td>\n",
              "    </tr>\n",
              "    <tr>\n",
              "      <th>4</th>\n",
              "      <td>chlorides</td>\n",
              "      <td>float64</td>\n",
              "      <td>0</td>\n",
              "      <td>153</td>\n",
              "      <td>0.0760</td>\n",
              "      <td>0.0980</td>\n",
              "      <td>0.092</td>\n",
              "      <td>6.22</td>\n",
              "    </tr>\n",
              "    <tr>\n",
              "      <th>5</th>\n",
              "      <td>free sulfur dioxide</td>\n",
              "      <td>float64</td>\n",
              "      <td>0</td>\n",
              "      <td>60</td>\n",
              "      <td>11.0000</td>\n",
              "      <td>25.0000</td>\n",
              "      <td>15.000</td>\n",
              "      <td>5.08</td>\n",
              "    </tr>\n",
              "    <tr>\n",
              "      <th>6</th>\n",
              "      <td>total sulfur dioxide</td>\n",
              "      <td>float64</td>\n",
              "      <td>0</td>\n",
              "      <td>144</td>\n",
              "      <td>34.0000</td>\n",
              "      <td>67.0000</td>\n",
              "      <td>54.000</td>\n",
              "      <td>6.60</td>\n",
              "    </tr>\n",
              "    <tr>\n",
              "      <th>7</th>\n",
              "      <td>density</td>\n",
              "      <td>float64</td>\n",
              "      <td>0</td>\n",
              "      <td>436</td>\n",
              "      <td>0.9978</td>\n",
              "      <td>0.9968</td>\n",
              "      <td>0.997</td>\n",
              "      <td>7.96</td>\n",
              "    </tr>\n",
              "    <tr>\n",
              "      <th>8</th>\n",
              "      <td>pH</td>\n",
              "      <td>float64</td>\n",
              "      <td>0</td>\n",
              "      <td>89</td>\n",
              "      <td>3.5100</td>\n",
              "      <td>3.2000</td>\n",
              "      <td>3.260</td>\n",
              "      <td>5.91</td>\n",
              "    </tr>\n",
              "    <tr>\n",
              "      <th>9</th>\n",
              "      <td>sulphates</td>\n",
              "      <td>float64</td>\n",
              "      <td>0</td>\n",
              "      <td>96</td>\n",
              "      <td>0.5600</td>\n",
              "      <td>0.6800</td>\n",
              "      <td>0.650</td>\n",
              "      <td>5.73</td>\n",
              "    </tr>\n",
              "    <tr>\n",
              "      <th>10</th>\n",
              "      <td>alcohol</td>\n",
              "      <td>float64</td>\n",
              "      <td>0</td>\n",
              "      <td>65</td>\n",
              "      <td>9.4000</td>\n",
              "      <td>9.8000</td>\n",
              "      <td>9.800</td>\n",
              "      <td>5.19</td>\n",
              "    </tr>\n",
              "    <tr>\n",
              "      <th>11</th>\n",
              "      <td>quality</td>\n",
              "      <td>int64</td>\n",
              "      <td>0</td>\n",
              "      <td>6</td>\n",
              "      <td>5.0000</td>\n",
              "      <td>5.0000</td>\n",
              "      <td>5.000</td>\n",
              "      <td>1.71</td>\n",
              "    </tr>\n",
              "  </tbody>\n",
              "</table>\n",
              "</div>"
            ],
            "text/plain": [
              "                    Name   dtypes  Missing  ...  Second Value  Third Value  Entropy\n",
              "0          fixed acidity  float64        0  ...        7.8000        7.800     5.94\n",
              "1       volatile acidity  float64        0  ...        0.8800        0.760     6.39\n",
              "2            citric acid  float64        0  ...        0.0000        0.040     5.87\n",
              "3         residual sugar  float64        0  ...        2.6000        2.300     4.78\n",
              "4              chlorides  float64        0  ...        0.0980        0.092     6.22\n",
              "5    free sulfur dioxide  float64        0  ...       25.0000       15.000     5.08\n",
              "6   total sulfur dioxide  float64        0  ...       67.0000       54.000     6.60\n",
              "7                density  float64        0  ...        0.9968        0.997     7.96\n",
              "8                     pH  float64        0  ...        3.2000        3.260     5.91\n",
              "9              sulphates  float64        0  ...        0.6800        0.650     5.73\n",
              "10               alcohol  float64        0  ...        9.8000        9.800     5.19\n",
              "11               quality    int64        0  ...        5.0000        5.000     1.71\n",
              "\n",
              "[12 rows x 8 columns]"
            ]
          },
          "metadata": {
            "tags": []
          },
          "execution_count": 13
        }
      ]
    },
    {
      "cell_type": "markdown",
      "metadata": {
        "id": "qTt_1LDIVkyp"
      },
      "source": [
        "I wanted a simple way to visualize the distributions of the feaatures and also quickly see how they could be transormed into a guasian distribution needed for neural networks.  I created a library that runs the Transforms listed above on each feature and automatically selects the optimal transform based on the skew and kurtosis.\n",
        "\n",
        "Let's see an example.  The plots below are only evaluating 1 feature ('alcohol'), however, in practice, we would do this for the entire dataset."
      ]
    },
    {
      "cell_type": "code",
      "metadata": {
        "colab": {
          "base_uri": "https://localhost:8080/",
          "height": 318
        },
        "id": "C4SwvTlBUOt2",
        "outputId": "ae56944f-961e-482e-fff1-4a81d252ce01"
      },
      "source": [
        "#hide\n",
        "trans_alcohol_df = plot_transforms(df, df.columns.get_loc('alcohol'), log=False)"
      ],
      "execution_count": 14,
      "outputs": [
        {
          "output_type": "stream",
          "text": [
            "alcohol 65\n",
            "Best:trans_qt\n"
          ],
          "name": "stdout"
        },
        {
          "output_type": "display_data",
          "data": {
            "image/png": "[encoded data removed]",
            "text/plain": [
              "<Figure size 1152x230.4 with 6 Axes>"
            ]
          },
          "metadata": {
            "tags": [],
            "needs_background": "light"
          }
        }
      ]
    },
    {
      "cell_type": "markdown",
      "metadata": {
        "id": "8iTJ7Y5TB_Q4"
      },
      "source": [
        "#!['did this work2?']({{ site.url }}{{ site.baseurl }}/images/wine_dataset/skew_alcohol.png)"
      ]
    },
    {
      "cell_type": "markdown",
      "metadata": {
        "id": "mrA4SdPLZnsM"
      },
      "source": [
        ""
      ]
    },
    {
      "cell_type": "markdown",
      "metadata": {
        "id": "bkvAtK-kozqp"
      },
      "source": [
        "In the plot above, we visually see that the most gausian distribution came from the Quantile Transformation.  This is also the Transformation that was automatically selected based on skew and kertosis as the most optimum."
      ]
    },
    {
      "cell_type": "markdown",
      "metadata": {
        "id": "Iw78xOLwbgbR"
      },
      "source": [
        "Same data as above, but on a log scale"
      ]
    },
    {
      "cell_type": "code",
      "metadata": {
        "colab": {
          "base_uri": "https://localhost:8080/",
          "height": 318
        },
        "id": "ORA9uJ5qWcb6",
        "outputId": "d649829b-eab2-4e00-8270-3d5f522574cc"
      },
      "source": [
        "#collapse-hide\n",
        "_ = plot_transforms(df, df.columns.get_loc('alcohol'), log=True)"
      ],
      "execution_count": 15,
      "outputs": [
        {
          "output_type": "stream",
          "text": [
            "alcohol 65\n",
            "Best:trans_qt\n"
          ],
          "name": "stdout"
        },
        {
          "output_type": "display_data",
          "data": {
            "image/png": "[encoded data removed]",
            "text/plain": [
              "<Figure size 1152x230.4 with 6 Axes>"
            ]
          },
          "metadata": {
            "tags": [],
            "needs_background": "light"
          }
        }
      ]
    },
    {
      "cell_type": "markdown",
      "metadata": {
        "id": "PH2eMOheOxYo"
      },
      "source": [
        "# Clip the data"
      ]
    },
    {
      "cell_type": "markdown",
      "metadata": {
        "id": "Uhb65QDRb8ks"
      },
      "source": [
        "Lets now clip the data to a limit of 2 standard deviations and then run it through the transforms.\n",
        "\n",
        "The Clip transformation does a few things.\n",
        "\n",
        "\n",
        "1.   Clips values to be within X number of standard deviations.\n",
        "2.   The values outside the range, will be adjusted to 1 of the 3 options:\n",
        ">*  X standard deviations\n",
        ">*  mean\n",
        ">*  median\n",
        "3.   Additional columns will be added to indicate if a value was clipped low or high.\n",
        "\n",
        "\n",
        "\n",
        "\n",
        "Let's see a sample output.\n"
      ]
    },
    {
      "cell_type": "code",
      "metadata": {
        "colab": {
          "base_uri": "https://localhost:8080/",
          "height": 155
        },
        "id": "3W6xM730btaW",
        "outputId": "b21051b6-4158-420e-fc86-61abe6ec56cc"
      },
      "source": [
        "clipped_2_df = clip_feature(df, 2, 'std')\n",
        "\n",
        "# We can see that the column names have changed\n",
        "# and also include weather it was clipped or not.\n",
        "resumetable(clipped_2_df)[30:33]"
      ],
      "execution_count": 16,
      "outputs": [
        {
          "output_type": "stream",
          "text": [
            "Dataset Shape: (1599, 36)\n"
          ],
          "name": "stdout"
        },
        {
          "output_type": "execute_result",
          "data": {
            "text/html": [
              "<div>\n",
              "<style scoped>\n",
              "    .dataframe tbody tr th:only-of-type {\n",
              "        vertical-align: middle;\n",
              "    }\n",
              "\n",
              "    .dataframe tbody tr th {\n",
              "        vertical-align: top;\n",
              "    }\n",
              "\n",
              "    .dataframe thead th {\n",
              "        text-align: right;\n",
              "    }\n",
              "</style>\n",
              "<table border=\"1\" class=\"dataframe\">\n",
              "  <thead>\n",
              "    <tr style=\"text-align: right;\">\n",
              "      <th></th>\n",
              "      <th>Name</th>\n",
              "      <th>dtypes</th>\n",
              "      <th>Missing</th>\n",
              "      <th>Uniques</th>\n",
              "      <th>First Value</th>\n",
              "      <th>Second Value</th>\n",
              "      <th>Third Value</th>\n",
              "      <th>Entropy</th>\n",
              "    </tr>\n",
              "  </thead>\n",
              "  <tbody>\n",
              "    <tr>\n",
              "      <th>30</th>\n",
              "      <td>clip_std_2_alcohol</td>\n",
              "      <td>float64</td>\n",
              "      <td>0</td>\n",
              "      <td>52</td>\n",
              "      <td>9.4</td>\n",
              "      <td>9.8</td>\n",
              "      <td>9.8</td>\n",
              "      <td>5.05</td>\n",
              "    </tr>\n",
              "    <tr>\n",
              "      <th>31</th>\n",
              "      <td>IS_CLIP_LOW_std_2_alcohol</td>\n",
              "      <td>bool</td>\n",
              "      <td>0</td>\n",
              "      <td>1</td>\n",
              "      <td>False</td>\n",
              "      <td>False</td>\n",
              "      <td>False</td>\n",
              "      <td>0.00</td>\n",
              "    </tr>\n",
              "    <tr>\n",
              "      <th>32</th>\n",
              "      <td>IS_CLIP_HIGH_std_2_alcohol</td>\n",
              "      <td>bool</td>\n",
              "      <td>0</td>\n",
              "      <td>2</td>\n",
              "      <td>False</td>\n",
              "      <td>False</td>\n",
              "      <td>False</td>\n",
              "      <td>0.26</td>\n",
              "    </tr>\n",
              "  </tbody>\n",
              "</table>\n",
              "</div>"
            ],
            "text/plain": [
              "                          Name   dtypes  ...  Third Value  Entropy\n",
              "30          clip_std_2_alcohol  float64  ...          9.8     5.05\n",
              "31   IS_CLIP_LOW_std_2_alcohol     bool  ...        False     0.00\n",
              "32  IS_CLIP_HIGH_std_2_alcohol     bool  ...        False     0.26\n",
              "\n",
              "[3 rows x 8 columns]"
            ]
          },
          "metadata": {
            "tags": []
          },
          "execution_count": 16
        }
      ]
    },
    {
      "cell_type": "markdown",
      "metadata": {
        "id": "uH9W2pHursaX"
      },
      "source": [
        "We get a new dataframe that consists of the clipped values and a IS_CLIP_LOW and IS_CLIP_HIGH column.\n",
        "\n",
        "note-Looks like 'alcohol' was only clipped on the High side based on the number of unique variables."
      ]
    },
    {
      "cell_type": "markdown",
      "metadata": {
        "id": "RX4_PxFQdi23"
      },
      "source": [
        "Now, lets run our clipped features through the Transforms.  We can see the bin around 13 increased significantly (aatches 2 standard deviations). Also, transforming the clipped version degraded the Quantile normalization."
      ]
    },
    {
      "cell_type": "code",
      "metadata": {
        "colab": {
          "base_uri": "https://localhost:8080/",
          "height": 318
        },
        "id": "csunSjvQchRZ",
        "outputId": "fa5c8167-b68d-43e5-da33-293ee21ecb0e"
      },
      "source": [
        "#collapse_show\n",
        "clip_std_2_df = plot_transforms(clipped_2_df,\n",
        "                                clipped_2_df.columns.get_loc('clip_std_2_alcohol'),\n",
        "                                log=False)"
      ],
      "execution_count": 17,
      "outputs": [
        {
          "output_type": "stream",
          "text": [
            "clip_std_2_alcohol 52\n",
            "Best:trans_bc\n"
          ],
          "name": "stdout"
        },
        {
          "output_type": "display_data",
          "data": {
            "image/png": "[encoded data removed]",
            "text/plain": [
              "<Figure size 1152x230.4 with 6 Axes>"
            ]
          },
          "metadata": {
            "tags": [],
            "needs_background": "light"
          }
        }
      ]
    },
    {
      "cell_type": "markdown",
      "metadata": {
        "id": "8i4sokykg5Im"
      },
      "source": [
        "Lets repeat the exercise, but move the outliers to the median.  The results are similar with a slite improvement of kurtosis."
      ]
    },
    {
      "cell_type": "code",
      "metadata": {
        "colab": {
          "base_uri": "https://localhost:8080/",
          "height": 318
        },
        "id": "GkwkUDNPetwx",
        "outputId": "25bf5029-894b-468f-a914-2922c7983137"
      },
      "source": [
        "#collapse_show\n",
        "clipped_2_median_df = clip_feature(df, 2, 'median')\n",
        "clipped_2_median_trans_df= plot_transforms(clipped_2_median_df,\n",
        "                                           clipped_2_median_df.columns.get_loc('clip_median_2_alcohol'),\n",
        "                                           log=False)"
      ],
      "execution_count": 18,
      "outputs": [
        {
          "output_type": "stream",
          "text": [
            "clip_median_2_alcohol 51\n",
            "Best:trans_bc\n"
          ],
          "name": "stdout"
        },
        {
          "output_type": "display_data",
          "data": {
            "image/png": "[encoded data removed]",
            "text/plain": [
              "<Figure size 1152x230.4 with 6 Axes>"
            ]
          },
          "metadata": {
            "tags": [],
            "needs_background": "light"
          }
        }
      ]
    },
    {
      "cell_type": "markdown",
      "metadata": {
        "id": "Q72gMdy6hpjn"
      },
      "source": [
        "Now for the real test, lets see how a neural network is effected by these modifications.\n",
        "\n",
        "\n",
        "1.   We will try a baseline with the default feaature set.\n",
        "2.   Replace the 'alcohol' feature with the QuantileTransformer version of the same feature.\n",
        "3.   Replace the 'alcohol' feature with Box-Cox, clipped to 2 standard deviations and set to the median.\n",
        "4.   Use all 3 'alcohol' columns\n",
        "\n",
        "Note-for now, all other features will be kept as default.\n",
        "\n"
      ]
    },
    {
      "cell_type": "markdown",
      "metadata": {
        "id": "g2nU9tmmjdSE"
      },
      "source": [
        "#stratified cross validation"
      ]
    },
    {
      "cell_type": "markdown",
      "metadata": {
        "id": "cSpBYQDtRqrm"
      },
      "source": [
        "Summary of the models can be found in the table below.  Did not see the impact I expected with the updated models.  However, I only transformed 1 of the 11 features.  In the next post, we will look at the results of transforming all the features. "
      ]
    },
    {
      "cell_type": "markdown",
      "metadata": {
        "id": "D0FwtTkWQGHf"
      },
      "source": [
        "| Model       | Average accuracy over 5 folds (%)\n",
        "| ----------- | ----------------                                      |\n",
        "| Baseline                                         | 90.1             |\n",
        "| Alcohol: quantile transform                      | 88.7             |\n",
        "| Alcohol: clipped to median                       | 91.2             |\n",
        "| Alcohol: clipped to median/Box-Cox transform     | 89.9             |\n",
        "| Alcohol: all of the above in one model.          | 90.6             |"
      ]
    },
    {
      "cell_type": "code",
      "metadata": {
        "colab": {
          "base_uri": "https://localhost:8080/",
          "height": 107
        },
        "id": "wGR3IYa5vKn5",
        "outputId": "56499231-b673-489c-9b2d-6ae9a1dd2824"
      },
      "source": [
        "#hide\n",
        "#we only want to change one feature set, so let's extract all 'alcohol' columns\n",
        "median_df = clipped_2_median_df.loc[:,clipped_2_median_df.columns.str.contains('alcohol')]\n",
        "median_df[:2]\n",
        "                          "
      ],
      "execution_count": null,
      "outputs": [
        {
          "output_type": "execute_result",
          "data": {
            "text/html": [
              "<div>\n",
              "<style scoped>\n",
              "    .dataframe tbody tr th:only-of-type {\n",
              "        vertical-align: middle;\n",
              "    }\n",
              "\n",
              "    .dataframe tbody tr th {\n",
              "        vertical-align: top;\n",
              "    }\n",
              "\n",
              "    .dataframe thead th {\n",
              "        text-align: right;\n",
              "    }\n",
              "</style>\n",
              "<table border=\"1\" class=\"dataframe\">\n",
              "  <thead>\n",
              "    <tr style=\"text-align: right;\">\n",
              "      <th></th>\n",
              "      <th>clip_median_2_alcohol</th>\n",
              "      <th>IS_CLIP_LOW_median_2_alcohol</th>\n",
              "      <th>IS_CLIP_HIGH_median_2_alcohol</th>\n",
              "    </tr>\n",
              "  </thead>\n",
              "  <tbody>\n",
              "    <tr>\n",
              "      <th>0</th>\n",
              "      <td>9.4</td>\n",
              "      <td>False</td>\n",
              "      <td>False</td>\n",
              "    </tr>\n",
              "    <tr>\n",
              "      <th>1</th>\n",
              "      <td>9.8</td>\n",
              "      <td>False</td>\n",
              "      <td>False</td>\n",
              "    </tr>\n",
              "  </tbody>\n",
              "</table>\n",
              "</div>"
            ],
            "text/plain": [
              "   clip_median_2_alcohol  ...  IS_CLIP_HIGH_median_2_alcohol\n",
              "0                    9.4  ...                          False\n",
              "1                    9.8  ...                          False\n",
              "\n",
              "[2 rows x 3 columns]"
            ]
          },
          "metadata": {
            "tags": []
          },
          "execution_count": 47
        }
      ]
    },
    {
      "cell_type": "markdown",
      "metadata": {
        "id": "8uyzY2aPTC1H"
      },
      "source": [
        "Detailed scores per model per fold can be found below:"
      ]
    },
    {
      "cell_type": "markdown",
      "metadata": {
        "id": "nAA5eFRmlGxt"
      },
      "source": [
        "# Baseline score:\n",
        "* Fold 1: 0.9119496941566467\n",
        "* Fold 2: 0.8553459048271179\n",
        "* Fold 3: 0.893081784248352\n",
        "* Fold 4: 0.8805031180381775\n",
        "* Fold 5: 0.9119496941566467\n",
        "* Average Accuracy: 0.9056603908538818\n",
        "\n",
        "Fold 1: 0.9056603908538818\n",
        "Fold 2: 0.8805031180381775\n",
        "Fold 3: 0.849056601524353\n",
        "Fold 4: 0.9056603908538818\n",
        "Fold 5: 0.9119496941566467\n",
        "Average Accuracy: 0.9056603908538818"
      ]
    },
    {
      "cell_type": "markdown",
      "metadata": {
        "id": "BKO9pdFTynbS"
      },
      "source": [
        "Score with Alcohol transformed using Quantile Transform degraded.\n",
        "\n",
        "* Fold 1: 0.9056603908538818\n",
        "* Fold 2: 0.8805031180381775\n",
        "* Fold 3: 0.8553459048271179\n",
        "* Fold 4: 0.8867924809455872\n",
        "* Fold 5: 0.9056603908538818\n",
        "* Average Accuracy: 0.8867924809455872"
      ]
    },
    {
      "cell_type": "markdown",
      "metadata": {
        "id": "QsNBiX0p2Ogj"
      },
      "source": [
        "# Using the clipped data set to median (also includes columns indicating clippage)\n",
        "\n",
        "Best score so far\n",
        "\n",
        "* Fold 1: 0.9056603908538818\n",
        "* Fold 2: 0.9119496941566467\n",
        "* Fold 3: 0.8553459048271179\n",
        "* Fold 4: 0.893081784248352\n",
        "* Fold 5: 0.9056603908538818\n",
        "* Average Accuracy: 0.9119496941566467"
      ]
    },
    {
      "cell_type": "markdown",
      "metadata": {
        "id": "Qm7I6VNq3ZGe"
      },
      "source": [
        "# Added transform of the clipped feature.  Hmm, degraded slightly.\n",
        "\n",
        "* Fold 1: 0.8867924809455872\n",
        "* Fold 2: 0.893081784248352\n",
        "* Fold 3: 0.8553459048271179\n",
        "* Fold 4: 0.8742138147354126\n",
        "* Fold 5: 0.893081784248352\n",
        "* Average Accuracy: 0.8993710875511169"
      ]
    },
    {
      "cell_type": "markdown",
      "metadata": {
        "id": "STcpk7LF4u1J"
      },
      "source": [
        "# Adding all 'alcohol' transforms to the feature set\n",
        "\n",
        "* Fold 1: 0.9119496941566467\n",
        "* Fold 2: 0.893081784248352\n",
        "* Fold 3: 0.9056603908538818\n",
        "* Fold 4: 0.8679245114326477\n",
        "* Fold 5: 0.893081784248352\n",
        "* Average Accuracy: 0.9056603908538818"
      ]
    },
    {
      "cell_type": "markdown",
      "metadata": {
        "id": "4u3suw125FxP"
      },
      "source": [
        "I didn't see the improvement I was expecting.  Let's analyze the data by looking at the feature importance."
      ]
    },
    {
      "cell_type": "markdown",
      "metadata": {
        "id": "YiX6Lfe35lW2"
      },
      "source": [
        "# Quick analysis with XGBoost\n",
        "\n",
        "Interestingly, the XGB model had a score of 92.5%.  The best score I've seen on Kaggle was around ~91%."
      ]
    },
    {
      "cell_type": "markdown",
      "metadata": {
        "id": "6wE1ROF_TBL-"
      },
      "source": [
        ""
      ]
    },
    {
      "cell_type": "code",
      "metadata": {
        "colab": {
          "base_uri": "https://localhost:8080/"
        },
        "id": "Dc3FI7tAkDQP",
        "outputId": "be4e9861-595c-4642-8d40-8dc45f303162"
      },
      "source": [
        "#collapse_show\n",
        "from xgboost import XGBClassifier\n",
        "\n",
        "y_test=df.quality\n",
        "df2=df.copy()\n",
        "df2.drop('quality', axis=1, inplace=True)\n",
        "\n",
        "X_train_combined, X_test_combined, y_train_combined, y_test_combined = train_test_split(df2, y_test, test_size=.2, random_state=0)\n",
        "clf = XGBClassifier(max_depth=2, learning_rate=.008)#(max_depth=200, random_state=seed, oob_score=True, min_samples_split=30)\n",
        "clf.fit(X_train_combined, y_train_combined)\n",
        "print (clf.score(X_test_combined, y_test_combined))"
      ],
      "execution_count": null,
      "outputs": [
        {
          "output_type": "stream",
          "text": [
            "0.925\n"
          ],
          "name": "stdout"
        }
      ]
    },
    {
      "cell_type": "code",
      "metadata": {
        "id": "TSl5rPcq5zLx"
      },
      "source": [
        "#collapse_show\n",
        "def feat_importance(m, df):\n",
        "  # get list of feature importance for given model\n",
        "    return pd.DataFrame({'cols':df.columns, 'imp':m.feature_importances_}\n",
        "                      ).sort_values('imp', ascending=False)"
      ],
      "execution_count": null,
      "outputs": []
    },
    {
      "cell_type": "markdown",
      "metadata": {
        "id": "Zh8x7r9Q7PVz"
      },
      "source": [
        "The most important feature with the Quantile transform of 'alcohol'. Which shows we are on the right track."
      ]
    },
    {
      "cell_type": "markdown",
      "metadata": {
        "id": "WjgdIZ0C7ld6"
      },
      "source": [
        "In the next Blog, I will investigate the results after transforming the entire feature set."
      ]
    },
    {
      "cell_type": "code",
      "metadata": {
        "colab": {
          "base_uri": "https://localhost:8080/",
          "height": 347
        },
        "id": "6TUd-Wfw5-lQ",
        "outputId": "ac1d74f2-f4f1-452b-c47a-c945a1be2694"
      },
      "source": [
        "#collapse_show\n",
        "fi=feat_importance(clf, X_train_combined)\n",
        "fi[:10]"
      ],
      "execution_count": null,
      "outputs": [
        {
          "output_type": "execute_result",
          "data": {
            "text/html": [
              "<div>\n",
              "<style scoped>\n",
              "    .dataframe tbody tr th:only-of-type {\n",
              "        vertical-align: middle;\n",
              "    }\n",
              "\n",
              "    .dataframe tbody tr th {\n",
              "        vertical-align: top;\n",
              "    }\n",
              "\n",
              "    .dataframe thead th {\n",
              "        text-align: right;\n",
              "    }\n",
              "</style>\n",
              "<table border=\"1\" class=\"dataframe\">\n",
              "  <thead>\n",
              "    <tr style=\"text-align: right;\">\n",
              "      <th></th>\n",
              "      <th>cols</th>\n",
              "      <th>imp</th>\n",
              "    </tr>\n",
              "  </thead>\n",
              "  <tbody>\n",
              "    <tr>\n",
              "      <th>14</th>\n",
              "      <td>alcohol_trans_qt</td>\n",
              "      <td>0.413229</td>\n",
              "    </tr>\n",
              "    <tr>\n",
              "      <th>2</th>\n",
              "      <td>citric acid</td>\n",
              "      <td>0.203427</td>\n",
              "    </tr>\n",
              "    <tr>\n",
              "      <th>1</th>\n",
              "      <td>volatile acidity</td>\n",
              "      <td>0.200514</td>\n",
              "    </tr>\n",
              "    <tr>\n",
              "      <th>9</th>\n",
              "      <td>sulphates</td>\n",
              "      <td>0.156309</td>\n",
              "    </tr>\n",
              "    <tr>\n",
              "      <th>0</th>\n",
              "      <td>fixed acidity</td>\n",
              "      <td>0.026521</td>\n",
              "    </tr>\n",
              "    <tr>\n",
              "      <th>3</th>\n",
              "      <td>residual sugar</td>\n",
              "      <td>0.000000</td>\n",
              "    </tr>\n",
              "    <tr>\n",
              "      <th>4</th>\n",
              "      <td>chlorides</td>\n",
              "      <td>0.000000</td>\n",
              "    </tr>\n",
              "    <tr>\n",
              "      <th>5</th>\n",
              "      <td>free sulfur dioxide</td>\n",
              "      <td>0.000000</td>\n",
              "    </tr>\n",
              "    <tr>\n",
              "      <th>6</th>\n",
              "      <td>total sulfur dioxide</td>\n",
              "      <td>0.000000</td>\n",
              "    </tr>\n",
              "    <tr>\n",
              "      <th>7</th>\n",
              "      <td>density</td>\n",
              "      <td>0.000000</td>\n",
              "    </tr>\n",
              "  </tbody>\n",
              "</table>\n",
              "</div>"
            ],
            "text/plain": [
              "                    cols       imp\n",
              "14      alcohol_trans_qt  0.413229\n",
              "2            citric acid  0.203427\n",
              "1       volatile acidity  0.200514\n",
              "9              sulphates  0.156309\n",
              "0          fixed acidity  0.026521\n",
              "3         residual sugar  0.000000\n",
              "4              chlorides  0.000000\n",
              "5    free sulfur dioxide  0.000000\n",
              "6   total sulfur dioxide  0.000000\n",
              "7                density  0.000000"
            ]
          },
          "metadata": {
            "tags": []
          },
          "execution_count": 73
        }
      ]
    }
  ]
}