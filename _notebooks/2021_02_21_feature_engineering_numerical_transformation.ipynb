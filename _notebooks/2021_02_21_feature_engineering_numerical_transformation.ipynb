{
  "nbformat": 4,
  "nbformat_minor": 0,
  "metadata": {
    "colab": {
      "name": "2021-02-21_feature_engineering_numerical_transformation.ipynb",
      "provenance": [],
      "authorship_tag": "ABX9TyMBTgYFnGsfBMcbR6CmiNN8"
    },
    "kernelspec": {
      "name": "python3",
      "display_name": "Python 3"
    }
  },
  "cells": [
    {
      "cell_type": "markdown",
      "metadata": {
        "id": "O_b68HJldUOT"
      },
      "source": [
        "# \"Useful tools for transforming the input features\"\n",
        "> \"Incredibly usefull tool to analyze and preprocess data for a deep neural network\"\n",
        "\n",
        "\n",
        "- toc: true\n",
        "- branch: master\n",
        "- badges: false\n",
        "- comments: true\n",
        "- categories: [data, eda, pandas]\n",
        "- image: images/wine_dataset/iStock-615737086-768x512.jpg\n",
        "- hide: false\n",
        "- search_exclude: true\n",
        "- metadata_key1: metadata_value1\n",
        "- metadata_key2: metadata_value2"
      ]
    },
    {
      "cell_type": "code",
      "metadata": {
        "colab": {
          "base_uri": "https://localhost:8080/"
        },
        "id": "NDlgc5B2SjUs",
        "outputId": "5534df13-561a-4a47-a63f-c81fe9f8424e"
      },
      "source": [
        "#hide\n",
        "# Standard Library Imports\n",
        "\n",
        "%reload_ext autoreload\n",
        "%autoreload 2\n",
        "%matplotlib inline\n",
        "\n",
        "!pip install fastai --upgrade --q\n",
        "from pathlib import Path\n",
        "from pandas.api.types import is_string_dtype, is_numeric_dtype, is_categorical_dtype\n",
        "from fastai.tabular.all import *\n",
        "import matplotlib.pyplot as plt\n",
        "\n",
        "from sklearn.preprocessing import PowerTransformer\n",
        "from sklearn.preprocessing import QuantileTransformer\n",
        "from sklearn.model_selection import train_test_split\n",
        "import pandas as pd\n",
        "from sklearn.preprocessing import PowerTransformer\n",
        "from sklearn.preprocessing import QuantileTransformer\n",
        "import numpy as np\n",
        "from scipy.stats import kurtosis, skew\n",
        "from scipy import stats\n",
        "import math\n",
        "import warnings\n",
        "warnings.filterwarnings(\"error\")\n",
        "\n",
        "from google.colab import drive\n",
        "mnt=drive.mount('/content/gdrive', force_remount=True)\n",
        "\n"
      ],
      "execution_count": null,
      "outputs": [
        {
          "output_type": "stream",
          "text": [
            "\u001b[K     |████████████████████████████████| 194kB 6.0MB/s \n",
            "\u001b[K     |████████████████████████████████| 61kB 7.3MB/s \n",
            "\u001b[?25hMounted at /content/gdrive\n"
          ],
          "name": "stdout"
        }
      ]
    },
    {
      "cell_type": "markdown",
      "metadata": {
        "id": "rwhlcCTSl2QH"
      },
      "source": [
        "# I will explore the transformations using the [wine data set](https://www.kaggle.com/uciml/red-wine-quality-cortez-et-al-2009) from Kaggle."
      ]
    },
    {
      "cell_type": "code",
      "metadata": {
        "id": "hFQsnjKCTdFL"
      },
      "source": [
        "#hide\n",
        "root_dir = \"/content/gdrive/My Drive/\"\n",
        "base_dir = root_dir + 'redwine'\n",
        "csv_path = (base_dir+'/winequality-red.csv')\n",
        "df=pd.read_csv(csv_path)"
      ],
      "execution_count": null,
      "outputs": []
    },
    {
      "cell_type": "markdown",
      "metadata": {
        "id": "WwTaawr3m1pC"
      },
      "source": [
        "# The following numerical transformations will be evaluated on the dataset:\n",
        "\n",
        "\n",
        "*   Log \n",
        "*   Square Root\n",
        "*   Box-Cox\n",
        "*   Yeo-Yohnson\n",
        "*   Quantile\n",
        "*   Clipping\n",
        "\n"
      ]
    }
  ]
}