{
  "nbformat": 4,
  "nbformat_minor": 0,
  "metadata": {
    "colab": {
      "name": "2021_02_14_computer_vision_analyze_defects.ipynb",
      "provenance": [],
      "authorship_tag": "ABX9TyN41cgoojji1+swgNLZFFW/"
    },
    "kernelspec": {
      "name": "python3",
      "display_name": "Python 3"
    }
  },
  "cells": [
    {
      "cell_type": "markdown",
      "metadata": {
        "id": "8oKO0Lw19pnt"
      },
      "source": [
        "# \"Using OpenCV and computer vision to detect PCB assembly defects\"\n",
        "> \"An inexpensive and simple way to catch assembly errors\"\n",
        "\n",
        "\n",
        "- toc: true\n",
        "- branch: master\n",
        "- badges: false\n",
        "- comments: true\n",
        "- categories: [opencv, computer vision, augmentation]\n",
        "- image: images/opencv_pcb_defects/Feb-14-2021 13-23-13_defects.gif\n",
        "- hide: false\n",
        "- search_exclude: true\n",
        "- metadata_key1: metadata_value1\n",
        "- metadata_key2: metadata_value2"
      ]
    },
    {
      "cell_type": "markdown",
      "metadata": {
        "id": "B0oHDa-J-GoP"
      },
      "source": [
        "#Problem"
      ]
    },
    {
      "cell_type": "markdown",
      "metadata": {
        "id": "C396ZVqV-Llg"
      },
      "source": [
        "In a R&D environment, circuit boards are often experimented on and left on a work bench without a document indicating the changes.\n",
        "The next person to use the board has no way to know what changed."
      ]
    },
    {
      "cell_type": "markdown",
      "metadata": {
        "id": "0gSut1F4_n1G"
      },
      "source": [
        "# Solution"
      ]
    },
    {
      "cell_type": "markdown",
      "metadata": {
        "id": "AAxTKqOw_qhB"
      },
      "source": [
        "\n",
        "\n",
        "*  Using [OpenCV]() and a phone, take a picture of a known good board as reference.\n",
        "*   Take a picture of the board in an unknown state.\n",
        "*   Visually, analyze the differences of the immages\n",
        "\n"
      ]
    },
    {
      "cell_type": "markdown",
      "metadata": {
        "id": "bR3JBXeDhw4V"
      },
      "source": [
        "![key point analysis](\n",
        "/thought_experiments/images/opencv_pcb_defects/key_points_pcb.png)"
      ]
    },
    {
      "cell_type": "markdown",
      "metadata": {
        "id": "3sA2hSPzAjay"
      },
      "source": [
        "# Analysis description"
      ]
    },
    {
      "cell_type": "markdown",
      "metadata": {
        "id": "CXsZQz7FAtlp"
      },
      "source": [
        "\n",
        "\n",
        "*   Transform the image into known size and shape (remove warping)\n",
        "*   Detect key landmarks in the image\n",
        "*   Transform the second image to match the original, keying off of the landmarks\n",
        "\n",
        "*   Overlay suspect image over known good image\n",
        "*   Subtract suspect image from known good image and save as delta mask\n",
        "*   Overlay delta mask on suspect board"
      ]
    },
    {
      "cell_type": "markdown",
      "metadata": {
        "id": "1PHsTI37NmUt"
      },
      "source": [
        "#Final outcome"
      ]
    },
    {
      "cell_type": "markdown",
      "metadata": {
        "id": "To2NXEipXvCH"
      },
      "source": [
        "Watch a [video](https://www.youtube.com/watch?v=TMtsNrRLYMc) of the process in action."
      ]
    }
  ]
}