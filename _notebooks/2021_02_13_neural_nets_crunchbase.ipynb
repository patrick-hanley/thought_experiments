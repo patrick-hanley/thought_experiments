{
  "nbformat": 4,
  "nbformat_minor": 0,
  "metadata": {
    "colab": {
      "name": "2021-02-13_neural_nets_crunchbase.ipynb",
      "provenance": [],
      "collapsed_sections": [],
      "toc_visible": true,
      "authorship_tag": "ABX9TyMUBCA68Kd1pIOCdWiISocP",
      "include_colab_link": true
    },
    "kernelspec": {
      "name": "python3",
      "display_name": "Python 3"
    }
  },
  "cells": [
    {
      "cell_type": "markdown",
      "metadata": {
        "id": "view-in-github",
        "colab_type": "text"
      },
      "source": [
        "<a href=\"https://colab.research.google.com/github/patrick-hanley/thought_experiments/blob/master/_notebooks/2021_02_13_neural_nets_crunchbase.ipynb\" target=\"_parent\"><img src=\"https://colab.research.google.com/assets/colab-badge.svg\" alt=\"Open In Colab\"/></a>"
      ]
    },
    {
      "cell_type": "markdown",
      "metadata": {
        "id": "3vzAltBQluld"
      },
      "source": [
        "# \"Helping VCs target the next acquisition with better than 90% confidence\"\n",
        "> \"After analyzing start-up funding data from over 49,000 startups, I can predict which companies are going to be aquired and which are going to be defunct.\"\n",
        ">\n",
        ">This [dataset](https://www.kaggle.com/arindam235/startup-investments-crunchbase) originated from Crunchbase and was downloaded from kaggle.\n",
        "\n",
        "- toc: true\n",
        "- branch: master\n",
        "- badges: false\n",
        "- comments: true\n",
        "- categories: [embeddings, venture capital, shallow neural nets]\n",
        "- image: images/city_embeddings.png\n",
        "- hide: false\n",
        "- search_exclude: true\n",
        "- metadata_key1: metadata_value1\n",
        "- metadata_key2: metadata_value2"
      ]
    },
    {
      "cell_type": "markdown",
      "metadata": {
        "id": "KsmdSij6VgqX"
      },
      "source": [
        "<!-- # Helping VCs target the next acquisition with better than 90% confidence\n",
        "\n",
        "#    After analyzing start-up funding data from over 49,000 startups, I can predict which companies are going to be aquired and which are going to be defunct.\n",
        "\n",
        "\n",
        "This [dataset](https://www.kaggle.com/arindam235/startup-investments-crunchbase) originated from Crunchbase and was downloaded from kaggle. -->\n",
        "\n"
      ]
    },
    {
      "cell_type": "code",
      "metadata": {
        "id": "EbuV7xPMKwyo",
        "colab": {
          "base_uri": "https://localhost:8080/"
        },
        "outputId": "53a128fd-dcdd-4540-9cc8-ff4ab4a8574c"
      },
      "source": [
        "#hide\n",
        "\n",
        "%reload_ext autoreload\n",
        "%autoreload 2\n",
        "%matplotlib inline\n",
        "\n",
        "!pip install fastai --upgrade --q\n",
        "\n",
        "from pandas.api.types import is_string_dtype, is_numeric_dtype, is_categorical_dtype\n",
        "from fastai.tabular.all import *\n",
        "\n",
        "from sklearn.ensemble import RandomForestClassifier\n",
        "from sklearn.tree import DecisionTreeClassifier\n",
        "from xgboost import XGBClassifier\n",
        "from sklearn import model_selection\n",
        "from sklearn.utils import class_weight\n",
        "from sklearn.metrics import classification_report\n",
        "from sklearn.metrics import confusion_matrix\n",
        "import matplotlib.style as style\n",
        "style.use('fivethirtyeight')\n",
        "\n",
        "from IPython.display import Image, display_svg, SVG\n",
        "from sklearn.model_selection import train_test_split\n",
        "\n",
        "from google.colab import drive\n",
        "mnt=drive.mount('/content/gdrive', force_remount=True)\n",
        "root_dir = \"/content/gdrive/My Drive/\"\n"
      ],
      "execution_count": null,
      "outputs": [
        {
          "output_type": "stream",
          "text": [
            "Mounted at /content/gdrive\n"
          ],
          "name": "stdout"
        }
      ]
    },
    {
      "cell_type": "markdown",
      "metadata": {
        "id": "ruhRBxwRTlpB"
      },
      "source": [
        "# **Overall Strategy**\n",
        "\n",
        "##Using the Fast.AI library, I used shallow neural networks to encode all the categorical features of the funding data (company market space, city, region, amount per round) and then extracted the embedding layers for further analysis with Machine Learning models.\n",
        "\n",
        "\n",
        "\n",
        "## Instead of a simple label encoding of each feature, I created different vector representations of multiple lengths for each network.\n",
        "  The sample below shows a vector of length 3.  \n",
        "The advantage is that we are able to transform discreet variables into vectors that are continous and meaningful.\n",
        "> > ### <img alt=\"Label Embeddings vs Vector Embedding\" width=\"800\" caption=\"Label Embeddings vs Vector Embedding (derived from latent space of neural network)\" id=\"city_emb\" src=\"https://drive.google.com/uc?id=1zszZ7eTR0Fe0QVhDto_YTrPop_XoyvDB\">\n",
        "\n",
        "---\n",
        "\n",
        "\n",
        "\n"
      ]
    },
    {
      "cell_type": "markdown",
      "metadata": {
        "id": "Oegmmu9tc6_e"
      },
      "source": [
        "\n",
        "\n",
        "\n",
        "In the Fast.AI book, [Deep Learning for Coders](https://www.amazon.com/Deep-Learning-Coders-fastai-PyTorch/dp/1492045527), an excellent example of the benefits of categorical embedding is provided.\n",
        "\n",
        "> On the left is a plot of the embedding matrix for the possible values of the State category. For a categorical variable we call the possible values of the variable its \"levels\" (or \"categories\" or \"classes\"), so here one level is \"Berlin,\" another is \"Hamburg,\" etc. On the right is a map of Germany. The actual physical locations of the German states were not part of the provided data, yet the model itself learned where they must be, based only on the behavior of store sales!"
      ]
    },
    {
      "cell_type": "markdown",
      "metadata": {
        "id": "51VCOTGJY534"
      },
      "source": [
        "\n",
        "### <img alt=\"State embeddings and map\" width=\"800\" caption=\"State embeddings and map (courtesy of Cheng Guo and Felix Berkhahn)\" id=\"state_emb\" src=\"https://drive.google.com/uc?id=1Vzc203MEmeGa3X3m7MM199xRSMpfbXyV\">\n",
        "\n"
      ]
    },
    {
      "cell_type": "markdown",
      "metadata": {
        "id": "Hvz-CIxta6-C"
      },
      "source": [
        "## Ensembling the embeddings \n",
        "What makes this code unique is the fact that I took the same data and ran it through 4 different shallow neural networks with a unique embedding size.\n",
        "\n",
        "For each neural net, I extracted the latent layers and trained a Random Forest model on each embedding space and then ensembled the predictions and probabilites. The end result was an improvement of > 6%.  \n",
        "\n",
        "The predictions improve because each model puts an emphasis on different features of the input data.\n",
        "\n",
        "The two charts shown below show the top 10 features based on the importance to the model.  Each model analyzes the data differently based on the relative importance of the features.  Remember, the underlying data is identical, but I'm analyzing the latent space with different embedding sizes.\n",
        "\n",
        "For example, the Random Forest model training on a fixed embedding size of 2, ranks a member of the 'City' vector(City_0) as the most important feature.  Where as the Random Forest using the default embeddings, ranks City_0 8th from the top.\n"
      ]
    },
    {
      "cell_type": "markdown",
      "metadata": {
        "id": "ZukHgIUo8zzF"
      },
      "source": [
        "<!-- ### <img alt=\"State embeddings and map\" width=\"1200\" caption=\"feature importance of different embedding sizes\" id=\"fi_emb\" src=\"https://drive.google.com/uc?id=1bf2h4DOXLvLChoPCcPSFDh8M87a7nyDF\"> -->\n",
        "\n",
        "<p float=\"left\">\n",
        "  <img src=\"https://drive.google.com/uc?id=1-Amuz7zrJL-yO9t7Ip8Tamt8URG5Sntu\"/>\n",
        "  <img src=\"https://drive.google.com/uc?id=1-hUkVHPhoX-jWVLwhffIR2cYhB22cvms\"/> \n",
        "</p>\n",
        "\n",
        "\n",
        "\n",
        "\n",
        "\n",
        "\n",
        "\n"
      ]
    },
    {
      "cell_type": "markdown",
      "metadata": {
        "id": "KqmEzbfQnvDt"
      },
      "source": [
        "\n",
        "\n",
        "\n",
        "\n",
        "# Steps taken to predict the acquisition of the startup was the following:\n",
        "\n",
        "\n",
        "1.   Import and clean the data\n",
        "2.   Create additional features\n",
        "3.   Run data through multiple shallow neural networks to convert categorical data to continous\n",
        "4.   Train ML models on the latent space of the neural nets\n",
        "5.   Ensemble the predictions from each model\n",
        "6.   Train ML model on the Ensemble\n",
        "7.   Select the most confident prediction\n",
        "\n",
        "\n",
        "\n"
      ]
    },
    {
      "cell_type": "code",
      "metadata": {
        "id": "fGAVkqkSShZU"
      },
      "source": [
        "#@title\n",
        "#hide\n",
        "\n",
        "def random_seed(seed_value, use_cuda):\n",
        "    np.random.seed(seed_value) # cpu vars\n",
        "    torch.manual_seed(seed_value) # cpu  vars\n",
        "    random.seed(seed_value) # Python\n",
        "    if use_cuda: \n",
        "        torch.cuda.manual_seed(seed_value)\n",
        "        torch.cuda.manual_seed_all(seed_value) # gpu vars\n",
        "        torch.backends.cudnn.deterministic = True  #needed\n",
        "        torch.backends.cudnn.benchmark = False\n",
        "\n",
        "def feat_importance(m, df):\n",
        "  # get list of feature importance for given model\n",
        "    return pd.DataFrame({'cols':df.columns, 'imp':m.feature_importances_}\n",
        "                      ).sort_values('imp', ascending=False)\n",
        "\n",
        "    \n",
        "def save_predictions(model_name, m, df, target_names, note):\n",
        "  col = []\n",
        "  for target_name in target_names:\n",
        "    tmp = \"_\".join([model_name, target_name, note])\n",
        "    col.append(tmp)\n",
        "  try:\n",
        "    predictions = m.predict_log_proba(df)\n",
        "  except:\n",
        "    predictions = m.predict_proba(df)\n",
        "  \n",
        "  predict_df = pd.DataFrame(predictions, columns=col).astype(\"float\")\n",
        "  delta_name = \"_\".join(['delta', col[1], col[0]])\n",
        "  predict_df[delta_name] = predict_df[col[1]] - predict_df[col[0]]\n",
        "  #predict_df['company_index']=df.index\n",
        "  return predict_df\n",
        "\n",
        "# modified based on this blog: https://towardsdatascience.com/quickly-test-multiple-models-a98477476f0\n",
        "def run_exps(models, X_train: pd.DataFrame , y_train: pd.DataFrame, X_test: pd.DataFrame, y_test: pd.DataFrame, note, seed=90210) -> pd.DataFrame:\n",
        "    '''\n",
        "    Lightweight script to test many models and find winners\n",
        "    :param models: array of tuples containing (model_name, model)\n",
        "    :param X_train: training split\n",
        "    :param y_train: training target vector\n",
        "    :param X_test: test split\n",
        "    :param y_test: test target vector\n",
        "    :note: \n",
        "    :seed: int for randomizer\n",
        "    :return: DataFrame of predictions\n",
        "    '''\n",
        "    #print ( embeded_xs_1.shape, y_train.shape, xs_valid_1.shape, y_test.shape)\n",
        "    dfs = []\n",
        "    dfs_predictions = []\n",
        "\n",
        "    results = []\n",
        "    names = []\n",
        "    scoring = ['accuracy', 'precision_weighted', 'recall_weighted', 'f1_weighted', 'roc_auc']\n",
        "    target_names = ['closed', 'aquired']\n",
        "    for model_name, model in models:\n",
        "        kfold = model_selection.KFold(n_splits=5, shuffle=True,\n",
        "                                      random_state=seed)\n",
        "        \n",
        "        cv_results = model_selection.cross_validate(model, X_train, y_train,\n",
        "                                                    cv=kfold, scoring=scoring)\n",
        "        clf = model.fit(X_train, y_train)\n",
        "        y_pred = clf.predict(X_test)\n",
        "        print((model_name, note))\n",
        "        print(classification_report(y_test, y_pred, target_names=target_names))\n",
        "\n",
        "        #fi=feat_importance(clf, X_test)\n",
        "        #plot_fi(model_name, note, fi[:10])\n",
        "\n",
        "        print ()\n",
        "        predict_df=save_predictions(model_name, clf, X_test, target_names, note)\n",
        "        names.append(model_name)\n",
        "\n",
        "        dfs_predictions.append(predict_df)\n",
        "    prediction_dfs = pd.concat(dfs_predictions, axis=1)\n",
        "    return prediction_dfs \n",
        "\n",
        "def nn_embeddings(emb_szs=None):\n",
        "  # use a neural network to create ebeddings of categorical data\n",
        "  learn = tabular_learner(dls,layers=[200,100], metrics=accuracy,\n",
        "                          emb_szs=emb_szs)\n",
        "  lr_in, lr_steep = learn.lr_find(show_plot=False)\n",
        "  learn.fit_one_cycle(20, lr_steep, cbs=EarlyStoppingCallback( \n",
        "      monitor='accuracy', min_delta=0.1, patience=2))\n",
        "  \n",
        "  # after fitting, get embeddings to be used by ML\n",
        "  embeded_xs = embed_features(learn, learn.dls.train.xs)\n",
        "  xs_valid = embed_features(learn, learn.dls.valid.xs)\n",
        "\n",
        "  return (learn, embeded_xs, xs_valid)\n",
        "\n",
        "def embed_features(learner, xs):\n",
        "  # https://forums.fast.ai/t/using-embedding-from-the-neural-network-in-random-forests/80063/9\n",
        "  # citation: danielwbn\n",
        "    xs = xs.copy()\n",
        "    for i, feature in enumerate(learner.dls.cat_names):\n",
        "        emb = learner.model.embeds[i]\n",
        "        new_feat = pd.DataFrame(emb(tensor(xs[feature], dtype=torch.int64)), index=xs.index, columns=[f'{feature}_{j}' for j in range(emb.embedding_dim)])\n",
        "        xs.drop(columns=feature, inplace=True)\n",
        "        xs = xs.join(new_feat)\n",
        "    return xs\n",
        "\n",
        "def plot_fi(name, note, fi):\n",
        "\n",
        "    title = \"_\".join([name, note])\n",
        "    fi_plot = fi.plot('cols', 'imp', 'barh', figsize=(12,7), legend=False)\n",
        "    \n",
        "    fi_plot.tick_params(axis = 'both', which = 'major', labelsize = 18)\n",
        "\n",
        "    # Remove the label of the x-axis\n",
        "    fi_plot.xaxis.label.set_visible(False)\n",
        "     # Remove the label of the y-axis\n",
        "    fi_plot.yaxis.label.set_visible(False)\n",
        "    titles=\"        \" + title\n",
        "    fi_plot.text(x = .0, y = 10, s = titles,\n",
        "               fontsize = 26, weight = 'bold', alpha = .75)\n",
        "    \n",
        "    fig=fi_plot.get_figure()\n",
        "    img_path = Path(base_dir + '/' + title + '.png')\n",
        "    fig.savefig(img_path, bbox_inches = 'tight')\n",
        "\n",
        "    return fi_plot\n",
        "\n",
        "# hide\n",
        "# @title\n",
        "# https://www.kaggle.com/grfiv4/plot-a-confusion-matrix\n",
        "# George Fisher\n",
        "def plot_confusion_matrix(cm,\n",
        "                          target_names,\n",
        "                          title='Confusion matrix',\n",
        "                          cmap=None,\n",
        "                          normalize=True):\n",
        "    \"\"\"\n",
        "    given a sklearn confusion matrix (cm), make a nice plot\n",
        "\n",
        "    Arguments\n",
        "    ---------\n",
        "    cm:           confusion matrix from sklearn.metrics.confusion_matrix\n",
        "\n",
        "    target_names: given classification classes such as [0, 1, 2]\n",
        "                  the class names, for example: ['high', 'medium', 'low']\n",
        "\n",
        "    title:        the text to display at the top of the matrix\n",
        "\n",
        "    cmap:         the gradient of the values displayed from matplotlib.pyplot.cm\n",
        "                  see http://matplotlib.org/examples/color/colormaps_reference.html\n",
        "                  plt.get_cmap('jet') or plt.cm.Blues\n",
        "\n",
        "    normalize:    If False, plot the raw numbers\n",
        "                  If True, plot the proportions\n",
        "\n",
        "    Usage\n",
        "    -----\n",
        "    plot_confusion_matrix(cm           = cm,                  # confusion matrix created by\n",
        "                                                              # sklearn.metrics.confusion_matrix\n",
        "                          normalize    = True,                # show proportions\n",
        "                          target_names = y_labels_vals,       # list of names of the classes\n",
        "                          title        = best_estimator_name) # title of graph\n",
        "\n",
        "    Citiation\n",
        "    ---------\n",
        "    http://scikit-learn.org/stable/auto_examples/model_selection/plot_confusion_matrix.html\n",
        "\n",
        "    \"\"\"\n",
        "    import matplotlib.pyplot as plt\n",
        "    import numpy as np\n",
        "    import itertools\n",
        "\n",
        "    accuracy = np.trace(cm) / float(np.sum(cm))\n",
        "    misclass = 1 - accuracy\n",
        "\n",
        "    if cmap is None:\n",
        "        cmap = plt.get_cmap('Blues')\n",
        "\n",
        "    plt.figure(figsize=(8, 6))\n",
        "    plt.imshow(cm, interpolation='nearest', cmap=cmap)\n",
        "    plt.title(title)\n",
        "    plt.colorbar()\n",
        "\n",
        "    if target_names is not None:\n",
        "        tick_marks = np.arange(len(target_names))\n",
        "        plt.xticks(tick_marks, target_names, rotation=45)\n",
        "        plt.yticks(tick_marks, target_names)\n",
        "\n",
        "    if normalize:\n",
        "        cm = cm.astype('float') / cm.sum(axis=1)[:, np.newaxis]\n",
        "\n",
        "\n",
        "    thresh = cm.max() / 1.5 if normalize else cm.max() / 2\n",
        "    for i, j in itertools.product(range(cm.shape[0]), range(cm.shape[1])):\n",
        "        if normalize:\n",
        "            plt.text(j, i, \"{:0.4f}\".format(cm[i, j]),\n",
        "                     horizontalalignment=\"center\",\n",
        "                     color=\"white\" if cm[i, j] > thresh else \"black\")\n",
        "        else:\n",
        "            plt.text(j, i, \"{:,}\".format(cm[i, j]),\n",
        "                     horizontalalignment=\"center\",\n",
        "                     color=\"white\" if cm[i, j] > thresh else \"black\")\n",
        "\n",
        "\n",
        "    plt.tight_layout()\n",
        "    plt.ylabel('True label')\n",
        "    plt.xlabel('Predicted label\\naccuracy={:0.4f}; misclass={:0.4f}'.format(accuracy, misclass))\n",
        "    plt.show()"
      ],
      "execution_count": null,
      "outputs": []
    },
    {
      "cell_type": "markdown",
      "metadata": {
        "id": "9pLp17ppB0iQ"
      },
      "source": [
        "## Import the data, split into Training and Test, Split into continous and categorical data\n"
      ]
    },
    {
      "cell_type": "code",
      "metadata": {
        "id": "jbAmGgbdSejg",
        "colab": {
          "base_uri": "https://localhost:8080/"
        },
        "outputId": "7856ade2-f1d2-472f-d961-a750517ff6bd"
      },
      "source": [
        "#hide\n",
        "# load pre-processed data\n",
        "base_dir = root_dir + 'crunchbase'\n",
        "path = Path(base_dir)\n",
        "csv_path = Path(base_dir+'/crunchbase_data_cleaned_3.csv')\n",
        "df = pd.read_csv(csv_path)\n",
        "print(csv_path)\n",
        "\n",
        "cleanup_nums = {\"status\":     {2: True, 1:False}}\n",
        "df = df.replace(cleanup_nums)\n",
        "company_names = df.name # For use later, but not necessary to use it for learning\n",
        "#city_names=df.city\n",
        "y=df.status\n",
        "X=df.copy()\n",
        "X.drop(['status','name'],axis=1,inplace=True)\n",
        "\n",
        "dep_var = 'status'\n",
        "\n",
        "test_size = 0.2\n",
        "seed = 7\n",
        "#random_seed(seed,use_cuda=False )\n",
        "X_train, X_test, y_train, y_test = train_test_split(X, y, test_size=test_size, random_state=seed)\n",
        "splits = (list(X_train.index),list(X_test.index))\n",
        "\n",
        "df.drop(['name'], axis=1, inplace=True)\n",
        "\n",
        "df = df.astype({'funding_total_usd': 'int64',\n",
        "                                  'first_funding_year':'int64',\n",
        "                                  'founded_year':'int64',\n",
        "                                  'last_funding_year':'int64',\n",
        "                                  'funding_rounds':'int64',\n",
        "                                  'venture': 'int64'})\n",
        "\n",
        "cont_nn, cat_nn = cont_cat_split(df, max_card=10, dep_var=dep_var)"
      ],
      "execution_count": null,
      "outputs": [
        {
          "output_type": "stream",
          "text": [
            "/content/gdrive/My Drive/crunchbase/crunchbase_data_cleaned_3.csv\n"
          ],
          "name": "stdout"
        }
      ]
    },
    {
      "cell_type": "markdown",
      "metadata": {
        "id": "iCv0NyaRnQWO"
      },
      "source": [
        "## List of Categorical features I will encode"
      ]
    },
    {
      "cell_type": "code",
      "metadata": {
        "colab": {
          "base_uri": "https://localhost:8080/"
        },
        "id": "P0el_ytcZMmI",
        "outputId": "81c75f1e-c737-4c3a-9ed8-2e112c03ce5a"
      },
      "source": [
        "#show\n",
        "cat_nn"
      ],
      "execution_count": null,
      "outputs": [
        {
          "output_type": "execute_result",
          "data": {
            "text/plain": [
              "['market',\n",
              " 'country_code',\n",
              " 'state_code',\n",
              " 'region',\n",
              " 'city',\n",
              " 'founded_month',\n",
              " 'founded_quarter']"
            ]
          },
          "metadata": {
            "tags": []
          },
          "execution_count": 84
        }
      ]
    },
    {
      "cell_type": "markdown",
      "metadata": {
        "id": "1T1BJ800CNDW"
      },
      "source": [
        "## Run data through multiple shallow neural networks to convert categorical to continous data\n",
        "\n",
        "##Train ML models on the latent space of the neural nets\n"
      ]
    },
    {
      "cell_type": "code",
      "metadata": {
        "colab": {
          "base_uri": "https://localhost:8080/",
          "height": 1000
        },
        "collapsed": true,
        "id": "obKv1xhsZkbW",
        "outputId": "9d7829bc-4085-4db3-f1b1-dc505d9468f2"
      },
      "source": [
        "\n",
        "# prepare data for neural net\n",
        "procs_nn = [Categorify, FillMissing, Normalize]\n",
        "to_nn = TabularPandas(df, procs_nn, cat_nn, cont_nn,\n",
        "                      splits=splits, y_names=dep_var)\n",
        "dls = to_nn.dataloaders(512)\n",
        "\n",
        "# override default embeddings\n",
        "\n",
        "# ebedding set to 1\n",
        "emb_szs={'city':1, 'market':1,'region':1,'founded_month':1, \n",
        "         'founded_quarter':1,'state_code':1}\n",
        "_, embeded_xs_1, xs_valid_1 = nn_embeddings(emb_szs)\n",
        "embed_1_df = run_exps(models, embeded_xs_1, y_train, xs_valid_1, y_test,\n",
        "                      'embed_1',)\n",
        "\n",
        "# ebedding set to 2\n",
        "emb_szs={'city':2, 'market':2,'region':2,'founded_month':2, \n",
        "         'founded_quarter':2,'state_code':2}\n",
        "_, embeded_xs_2, xs_valid_2 = nn_embeddings(emb_szs)\n",
        "embed_2_df = run_exps(models, embeded_xs_2, y_train, xs_valid_2, y_test,\n",
        "                      'embed_2')\n",
        "\n",
        "# ebedding set to 3\n",
        "emb_szs={'city':3, 'market':3,'region':3,'founded_month':3, \n",
        "         'founded_quarter':3,'state_code':3}\n",
        "_, embeded_xs_3, xs_valid_3 = nn_embeddings(emb_szs)\n",
        "embed_3_df = run_exps(models, embeded_xs_3, y_train, xs_valid_3, y_test,\n",
        "                      'embed_3')\n",
        "\n",
        "# default embedding based on cardinality of data\n",
        "_, embeded_xs_default, xs_valid_default = nn_embeddings(None)\n",
        "embed_default_df = run_exps(models, embeded_xs_default, y_train,\n",
        "                            xs_valid_default, y_test, 'default_embedding')\n"
      ],
      "execution_count": null,
      "outputs": [
        {
          "output_type": "display_data",
          "data": {
            "text/html": [
              ""
            ],
            "text/plain": [
              "<IPython.core.display.HTML object>"
            ]
          },
          "metadata": {
            "tags": []
          }
        },
        {
          "output_type": "display_data",
          "data": {
            "text/html": [
              "<table border=\"1\" class=\"dataframe\">\n",
              "  <thead>\n",
              "    <tr style=\"text-align: left;\">\n",
              "      <th>epoch</th>\n",
              "      <th>train_loss</th>\n",
              "      <th>valid_loss</th>\n",
              "      <th>accuracy</th>\n",
              "      <th>time</th>\n",
              "    </tr>\n",
              "  </thead>\n",
              "  <tbody>\n",
              "    <tr>\n",
              "      <td>0</td>\n",
              "      <td>0.694994</td>\n",
              "      <td>0.672121</td>\n",
              "      <td>0.609195</td>\n",
              "      <td>00:00</td>\n",
              "    </tr>\n",
              "    <tr>\n",
              "      <td>1</td>\n",
              "      <td>0.654680</td>\n",
              "      <td>0.631926</td>\n",
              "      <td>0.662356</td>\n",
              "      <td>00:00</td>\n",
              "    </tr>\n",
              "    <tr>\n",
              "      <td>2</td>\n",
              "      <td>0.626597</td>\n",
              "      <td>0.625184</td>\n",
              "      <td>0.649425</td>\n",
              "      <td>00:00</td>\n",
              "    </tr>\n",
              "  </tbody>\n",
              "</table>"
            ],
            "text/plain": [
              "<IPython.core.display.HTML object>"
            ]
          },
          "metadata": {
            "tags": []
          }
        },
        {
          "output_type": "stream",
          "text": [
            "No improvement since epoch 0: early stopping\n",
            "('RandomForest', 'embed_1')\n",
            "              precision    recall  f1-score   support\n",
            "\n",
            "      closed       0.68      0.59      0.63       308\n",
            "     aquired       0.71      0.78      0.74       388\n",
            "\n",
            "    accuracy                           0.70       696\n",
            "   macro avg       0.69      0.69      0.69       696\n",
            "weighted avg       0.70      0.70      0.69       696\n",
            "\n",
            "\n"
          ],
          "name": "stdout"
        },
        {
          "output_type": "display_data",
          "data": {
            "text/html": [
              ""
            ],
            "text/plain": [
              "<IPython.core.display.HTML object>"
            ]
          },
          "metadata": {
            "tags": []
          }
        },
        {
          "output_type": "display_data",
          "data": {
            "text/html": [
              "<table border=\"1\" class=\"dataframe\">\n",
              "  <thead>\n",
              "    <tr style=\"text-align: left;\">\n",
              "      <th>epoch</th>\n",
              "      <th>train_loss</th>\n",
              "      <th>valid_loss</th>\n",
              "      <th>accuracy</th>\n",
              "      <th>time</th>\n",
              "    </tr>\n",
              "  </thead>\n",
              "  <tbody>\n",
              "    <tr>\n",
              "      <td>0</td>\n",
              "      <td>0.706061</td>\n",
              "      <td>0.667101</td>\n",
              "      <td>0.626437</td>\n",
              "      <td>00:00</td>\n",
              "    </tr>\n",
              "    <tr>\n",
              "      <td>1</td>\n",
              "      <td>0.657779</td>\n",
              "      <td>0.642171</td>\n",
              "      <td>0.658046</td>\n",
              "      <td>00:00</td>\n",
              "    </tr>\n",
              "    <tr>\n",
              "      <td>2</td>\n",
              "      <td>0.614657</td>\n",
              "      <td>0.628641</td>\n",
              "      <td>0.662356</td>\n",
              "      <td>00:00</td>\n",
              "    </tr>\n",
              "  </tbody>\n",
              "</table>"
            ],
            "text/plain": [
              "<IPython.core.display.HTML object>"
            ]
          },
          "metadata": {
            "tags": []
          }
        },
        {
          "output_type": "stream",
          "text": [
            "No improvement since epoch 0: early stopping\n",
            "('RandomForest', 'embed_2')\n",
            "              precision    recall  f1-score   support\n",
            "\n",
            "      closed       0.67      0.61      0.64       308\n",
            "     aquired       0.71      0.77      0.74       388\n",
            "\n",
            "    accuracy                           0.70       696\n",
            "   macro avg       0.69      0.69      0.69       696\n",
            "weighted avg       0.69      0.70      0.69       696\n",
            "\n",
            "\n"
          ],
          "name": "stdout"
        },
        {
          "output_type": "display_data",
          "data": {
            "text/html": [
              ""
            ],
            "text/plain": [
              "<IPython.core.display.HTML object>"
            ]
          },
          "metadata": {
            "tags": []
          }
        },
        {
          "output_type": "display_data",
          "data": {
            "text/html": [
              "<table border=\"1\" class=\"dataframe\">\n",
              "  <thead>\n",
              "    <tr style=\"text-align: left;\">\n",
              "      <th>epoch</th>\n",
              "      <th>train_loss</th>\n",
              "      <th>valid_loss</th>\n",
              "      <th>accuracy</th>\n",
              "      <th>time</th>\n",
              "    </tr>\n",
              "  </thead>\n",
              "  <tbody>\n",
              "    <tr>\n",
              "      <td>0</td>\n",
              "      <td>0.668027</td>\n",
              "      <td>0.659178</td>\n",
              "      <td>0.632184</td>\n",
              "      <td>00:00</td>\n",
              "    </tr>\n",
              "    <tr>\n",
              "      <td>1</td>\n",
              "      <td>0.639549</td>\n",
              "      <td>0.630850</td>\n",
              "      <td>0.650862</td>\n",
              "      <td>00:00</td>\n",
              "    </tr>\n",
              "    <tr>\n",
              "      <td>2</td>\n",
              "      <td>0.611540</td>\n",
              "      <td>0.637273</td>\n",
              "      <td>0.629310</td>\n",
              "      <td>00:00</td>\n",
              "    </tr>\n",
              "  </tbody>\n",
              "</table>"
            ],
            "text/plain": [
              "<IPython.core.display.HTML object>"
            ]
          },
          "metadata": {
            "tags": []
          }
        },
        {
          "output_type": "stream",
          "text": [
            "No improvement since epoch 0: early stopping\n",
            "('RandomForest', 'embed_3')\n",
            "              precision    recall  f1-score   support\n",
            "\n",
            "      closed       0.69      0.59      0.64       308\n",
            "     aquired       0.71      0.79      0.75       388\n",
            "\n",
            "    accuracy                           0.70       696\n",
            "   macro avg       0.70      0.69      0.69       696\n",
            "weighted avg       0.70      0.70      0.70       696\n",
            "\n",
            "\n"
          ],
          "name": "stdout"
        },
        {
          "output_type": "display_data",
          "data": {
            "text/html": [
              ""
            ],
            "text/plain": [
              "<IPython.core.display.HTML object>"
            ]
          },
          "metadata": {
            "tags": []
          }
        },
        {
          "output_type": "display_data",
          "data": {
            "text/html": [
              "<table border=\"1\" class=\"dataframe\">\n",
              "  <thead>\n",
              "    <tr style=\"text-align: left;\">\n",
              "      <th>epoch</th>\n",
              "      <th>train_loss</th>\n",
              "      <th>valid_loss</th>\n",
              "      <th>accuracy</th>\n",
              "      <th>time</th>\n",
              "    </tr>\n",
              "  </thead>\n",
              "  <tbody>\n",
              "    <tr>\n",
              "      <td>0</td>\n",
              "      <td>0.671802</td>\n",
              "      <td>0.684049</td>\n",
              "      <td>0.603448</td>\n",
              "      <td>00:00</td>\n",
              "    </tr>\n",
              "    <tr>\n",
              "      <td>1</td>\n",
              "      <td>0.620218</td>\n",
              "      <td>0.657425</td>\n",
              "      <td>0.642241</td>\n",
              "      <td>00:00</td>\n",
              "    </tr>\n",
              "    <tr>\n",
              "      <td>2</td>\n",
              "      <td>0.567912</td>\n",
              "      <td>0.636839</td>\n",
              "      <td>0.653736</td>\n",
              "      <td>00:00</td>\n",
              "    </tr>\n",
              "  </tbody>\n",
              "</table>"
            ],
            "text/plain": [
              "<IPython.core.display.HTML object>"
            ]
          },
          "metadata": {
            "tags": []
          }
        },
        {
          "output_type": "stream",
          "text": [
            "No improvement since epoch 0: early stopping\n",
            "('RandomForest', 'default_embedding')\n",
            "              precision    recall  f1-score   support\n",
            "\n",
            "      closed       0.67      0.59      0.63       308\n",
            "     aquired       0.70      0.77      0.73       388\n",
            "\n",
            "    accuracy                           0.69       696\n",
            "   macro avg       0.69      0.68      0.68       696\n",
            "weighted avg       0.69      0.69      0.69       696\n",
            "\n",
            "\n"
          ],
          "name": "stdout"
        }
      ]
    },
    {
      "cell_type": "markdown",
      "metadata": {
        "id": "Z1oV1M2ADC1y"
      },
      "source": [
        "## Ensemble the predictions from each model"
      ]
    },
    {
      "cell_type": "code",
      "metadata": {
        "id": "ALvjVf10GOqZ"
      },
      "source": [
        "#show\n",
        "del combined_predictions\n",
        "# combine all predictions into single dataframe and train with RF\n",
        "combined_predictions = pd.concat([embed_1_df, embed_2_df, embed_3_df, embed_default_df ], axis=1)\n",
        "combined_predictions = combined_predictions.T.drop_duplicates().T\n",
        "\n",
        "combined_predictions.drop(['company_index'],axis=1,inplace=True, errors='ignore')\n",
        "combined_predictions.drop(['combined_confidence'],axis=1,inplace=True, errors='ignore')\n",
        "\n",
        "# now need to split combined_predictions into train and valid sets\n",
        "X_train_combined, X_test_combined, y_train_combined, y_test_combined = train_test_split(combined_predictions, y_test, test_size=test_size, random_state=seed)"
      ],
      "execution_count": null,
      "outputs": []
    },
    {
      "cell_type": "markdown",
      "metadata": {
        "id": "39l-ZeDxDKny"
      },
      "source": [
        "##Train ML model on the Ensemble"
      ]
    },
    {
      "cell_type": "code",
      "metadata": {
        "colab": {
          "base_uri": "https://localhost:8080/"
        },
        "id": "nYfqVPKKHVOu",
        "outputId": "544acd5c-329c-4d61-bbf8-c907098b520a"
      },
      "source": [
        "#show\n",
        "\n",
        "clf = RandomForestClassifier(max_depth=200, random_state=0, oob_score=True, min_samples_split=30)\n",
        "clf.fit(X_train_combined, y_train_combined)\n",
        "print (clf.score(X_test_combined, y_test_combined))"
      ],
      "execution_count": null,
      "outputs": [
        {
          "output_type": "stream",
          "text": [
            "0.75\n"
          ],
          "name": "stdout"
        }
      ]
    },
    {
      "cell_type": "markdown",
      "metadata": {
        "id": "9iI11GPXqlnR"
      },
      "source": [
        "### The ensemble of the latent layers improves the model by > 6%.  To reach 95% accuracy, I focus on the top 20% of the companies based on the confidence of the model.\n",
        "\n",
        "\n"
      ]
    },
    {
      "cell_type": "markdown",
      "metadata": {
        "id": "dNJTNMGrEMob"
      },
      "source": [
        "##Select the most confident prediction"
      ]
    },
    {
      "cell_type": "code",
      "metadata": {
        "id": "psGDtl890se3",
        "colab": {
          "base_uri": "https://localhost:8080/",
          "height": 767
        },
        "outputId": "0fcf309d-193b-437a-815c-5a8ecb90b39e"
      },
      "source": [
        "#show\n",
        "predicted_val=clf.predict_proba(X_test_combined)\n",
        "predicted=clf.predict(X_test_combined)\n",
        "\n",
        "pred_df=pd.DataFrame(predicted_val, columns=['z','o'])\n",
        "#pred_df['names']=(X_test_combined.company_index.values)\n",
        "\n",
        "pred_df['target']=y_test_combined.values\n",
        "pred_df['names']=y_test_combined.index\n",
        "pred_df['predict_acquisition']=predicted\n",
        "\n",
        "\n",
        "pred_df['diff'] = pred_df.apply(lambda x: x['o'] - x['z'], axis=1)\n",
        "confident_pred_df=pred_df[(pred_df['diff']>.71) | (pred_df['diff']<-.65)]\n",
        "\n",
        "confident_pred_df.set_index('names',inplace=True)\n",
        "\n",
        "final_acquisition_predictions = pd.merge(company_names, confident_pred_df,\n",
        "                                         how = 'right',left_index = True,\n",
        "                                         right_index = True)\n",
        "\n",
        "final_acquisition_predictions.drop(['o','z'], inplace=True, axis=1, \n",
        "                                  )\n",
        "\n",
        "final_acquisition_predictions.index.name = 'idx_name'\n",
        "final_acquisition_predictions.sort_values(by='diff')"
      ],
      "execution_count": null,
      "outputs": [
        {
          "output_type": "execute_result",
          "data": {
            "text/html": [
              "<div>\n",
              "<style scoped>\n",
              "    .dataframe tbody tr th:only-of-type {\n",
              "        vertical-align: middle;\n",
              "    }\n",
              "\n",
              "    .dataframe tbody tr th {\n",
              "        vertical-align: top;\n",
              "    }\n",
              "\n",
              "    .dataframe thead th {\n",
              "        text-align: right;\n",
              "    }\n",
              "</style>\n",
              "<table border=\"1\" class=\"dataframe\">\n",
              "  <thead>\n",
              "    <tr style=\"text-align: right;\">\n",
              "      <th></th>\n",
              "      <th>name</th>\n",
              "      <th>target</th>\n",
              "      <th>predict_acquisition</th>\n",
              "      <th>diff</th>\n",
              "    </tr>\n",
              "    <tr>\n",
              "      <th>idx_name</th>\n",
              "      <th></th>\n",
              "      <th></th>\n",
              "      <th></th>\n",
              "      <th></th>\n",
              "    </tr>\n",
              "  </thead>\n",
              "  <tbody>\n",
              "    <tr>\n",
              "      <th>1936</th>\n",
              "      <td>MyDatingTree</td>\n",
              "      <td>False</td>\n",
              "      <td>False</td>\n",
              "      <td>-0.858406</td>\n",
              "    </tr>\n",
              "    <tr>\n",
              "      <th>3427</th>\n",
              "      <td>Your Survival</td>\n",
              "      <td>False</td>\n",
              "      <td>False</td>\n",
              "      <td>-0.855665</td>\n",
              "    </tr>\n",
              "    <tr>\n",
              "      <th>1514</th>\n",
              "      <td>JumpTheClub</td>\n",
              "      <td>False</td>\n",
              "      <td>False</td>\n",
              "      <td>-0.855045</td>\n",
              "    </tr>\n",
              "    <tr>\n",
              "      <th>2887</th>\n",
              "      <td>Steelhead Composites</td>\n",
              "      <td>False</td>\n",
              "      <td>False</td>\n",
              "      <td>-0.843806</td>\n",
              "    </tr>\n",
              "    <tr>\n",
              "      <th>1228</th>\n",
              "      <td>Ground Zero Group Corporation</td>\n",
              "      <td>False</td>\n",
              "      <td>False</td>\n",
              "      <td>-0.839395</td>\n",
              "    </tr>\n",
              "    <tr>\n",
              "      <th>3359</th>\n",
              "      <td>WHObyYOU</td>\n",
              "      <td>False</td>\n",
              "      <td>False</td>\n",
              "      <td>-0.828085</td>\n",
              "    </tr>\n",
              "    <tr>\n",
              "      <th>1851</th>\n",
              "      <td>MobAppCreator</td>\n",
              "      <td>False</td>\n",
              "      <td>False</td>\n",
              "      <td>-0.808270</td>\n",
              "    </tr>\n",
              "    <tr>\n",
              "      <th>1151</th>\n",
              "      <td>Gifts that Give</td>\n",
              "      <td>False</td>\n",
              "      <td>False</td>\n",
              "      <td>-0.784105</td>\n",
              "    </tr>\n",
              "    <tr>\n",
              "      <th>2374</th>\n",
              "      <td>Puentes Company</td>\n",
              "      <td>False</td>\n",
              "      <td>False</td>\n",
              "      <td>-0.783356</td>\n",
              "    </tr>\n",
              "    <tr>\n",
              "      <th>847</th>\n",
              "      <td>Dormzy</td>\n",
              "      <td>False</td>\n",
              "      <td>False</td>\n",
              "      <td>-0.731046</td>\n",
              "    </tr>\n",
              "    <tr>\n",
              "      <th>3278</th>\n",
              "      <td>VirtualQube</td>\n",
              "      <td>False</td>\n",
              "      <td>False</td>\n",
              "      <td>-0.727056</td>\n",
              "    </tr>\n",
              "    <tr>\n",
              "      <th>2760</th>\n",
              "      <td>Social GameWorks</td>\n",
              "      <td>False</td>\n",
              "      <td>False</td>\n",
              "      <td>-0.723042</td>\n",
              "    </tr>\n",
              "    <tr>\n",
              "      <th>524</th>\n",
              "      <td>Cerelink</td>\n",
              "      <td>False</td>\n",
              "      <td>False</td>\n",
              "      <td>-0.688752</td>\n",
              "    </tr>\n",
              "    <tr>\n",
              "      <th>1032</th>\n",
              "      <td>FirePower Technology</td>\n",
              "      <td>False</td>\n",
              "      <td>False</td>\n",
              "      <td>-0.671463</td>\n",
              "    </tr>\n",
              "    <tr>\n",
              "      <th>375</th>\n",
              "      <td>BlackLocus</td>\n",
              "      <td>True</td>\n",
              "      <td>True</td>\n",
              "      <td>0.717354</td>\n",
              "    </tr>\n",
              "    <tr>\n",
              "      <th>2827</th>\n",
              "      <td>SpectraLinear</td>\n",
              "      <td>True</td>\n",
              "      <td>True</td>\n",
              "      <td>0.737181</td>\n",
              "    </tr>\n",
              "    <tr>\n",
              "      <th>3229</th>\n",
              "      <td>Vela Systems</td>\n",
              "      <td>True</td>\n",
              "      <td>True</td>\n",
              "      <td>0.737181</td>\n",
              "    </tr>\n",
              "    <tr>\n",
              "      <th>1539</th>\n",
              "      <td>Kickfire</td>\n",
              "      <td>False</td>\n",
              "      <td>True</td>\n",
              "      <td>0.739819</td>\n",
              "    </tr>\n",
              "    <tr>\n",
              "      <th>2380</th>\n",
              "      <td>Pure Networks</td>\n",
              "      <td>True</td>\n",
              "      <td>True</td>\n",
              "      <td>0.744588</td>\n",
              "    </tr>\n",
              "    <tr>\n",
              "      <th>2060</th>\n",
              "      <td>NuConomy</td>\n",
              "      <td>True</td>\n",
              "      <td>True</td>\n",
              "      <td>0.745476</td>\n",
              "    </tr>\n",
              "    <tr>\n",
              "      <th>1573</th>\n",
              "      <td>Kovio</td>\n",
              "      <td>True</td>\n",
              "      <td>True</td>\n",
              "      <td>0.750662</td>\n",
              "    </tr>\n",
              "    <tr>\n",
              "      <th>1770</th>\n",
              "      <td>Mediamind</td>\n",
              "      <td>True</td>\n",
              "      <td>True</td>\n",
              "      <td>0.769136</td>\n",
              "    </tr>\n",
              "    <tr>\n",
              "      <th>2685</th>\n",
              "      <td>Simple</td>\n",
              "      <td>True</td>\n",
              "      <td>True</td>\n",
              "      <td>0.770361</td>\n",
              "    </tr>\n",
              "  </tbody>\n",
              "</table>\n",
              "</div>"
            ],
            "text/plain": [
              "                                   name  target  predict_acquisition      diff\n",
              "idx_name                                                                      \n",
              "1936                       MyDatingTree   False                False -0.858406\n",
              "3427                      Your Survival   False                False -0.855665\n",
              "1514                        JumpTheClub   False                False -0.855045\n",
              "2887               Steelhead Composites   False                False -0.843806\n",
              "1228      Ground Zero Group Corporation   False                False -0.839395\n",
              "3359                           WHObyYOU   False                False -0.828085\n",
              "1851                      MobAppCreator   False                False -0.808270\n",
              "1151                    Gifts that Give   False                False -0.784105\n",
              "2374                    Puentes Company   False                False -0.783356\n",
              "847                              Dormzy   False                False -0.731046\n",
              "3278                        VirtualQube   False                False -0.727056\n",
              "2760                   Social GameWorks   False                False -0.723042\n",
              "524                            Cerelink   False                False -0.688752\n",
              "1032               FirePower Technology   False                False -0.671463\n",
              "375                          BlackLocus    True                 True  0.717354\n",
              "2827                      SpectraLinear    True                 True  0.737181\n",
              "3229                       Vela Systems    True                 True  0.737181\n",
              "1539                           Kickfire   False                 True  0.739819\n",
              "2380                      Pure Networks    True                 True  0.744588\n",
              "2060                           NuConomy    True                 True  0.745476\n",
              "1573                              Kovio    True                 True  0.750662\n",
              "1770                          Mediamind    True                 True  0.769136\n",
              "2685                             Simple    True                 True  0.770361"
            ]
          },
          "metadata": {
            "tags": []
          },
          "execution_count": 100
        }
      ]
    },
    {
      "cell_type": "markdown",
      "metadata": {
        "id": "CcCLmm03O_YQ"
      },
      "source": [
        "# Interesting high confidence predictions\n",
        "I predicted that Kickfire was aquired with a 79% confidence, however the data provided by Crunchbase listed it as a closed.  After investigation, Kickfire was actually aquired in 2010 by [Teradata](https://www.teradata.com/).  Details can be found in this [article](https://https://www.infoworld.com/article/2625533/teradata-buys-analytics-vendor-kickfire.html).\n",
        "\n",
        "\n",
        "The other company that I predicted would get aquired is Breaktime Studios.  This company went under in 2016.\n",
        "\n",
        "While I was able to make accurate predictions on the limited data of market type and the amount of funding in each round.  It would have been helpful to know who was making the investments.  Was it credible VCs with a known trackrecord or individuals.  Stay tuined while I include investor data to the next model.\n",
        "\n",
        "\n"
      ]
    },
    {
      "cell_type": "code",
      "metadata": {
        "colab": {
          "base_uri": "https://localhost:8080/",
          "height": 474
        },
        "id": "E--HwGZWeBMl",
        "outputId": "7cc2f1f8-1d18-491b-a9b1-e6396b2694cd"
      },
      "source": [
        "#collapse-show\n",
        "cm=confusion_matrix(final_acquisition_predictions.target, final_acquisition_predictions.predict_acquisition,  labels=None, sample_weight=None, normalize=None)\n",
        "plot_confusion_matrix(cm, ['closed','aquired'], normalize=None)"
      ],
      "execution_count": null,
      "outputs": [
        {
          "output_type": "display_data",
          "data": {
            "image/png": "[encoded data removed]",
            "text/plain": [
              "<Figure size 576x432 with 2 Axes>"
            ]
          },
          "metadata": {
            "tags": []
          }
        }
      ]
    },
    {
      "cell_type": "code",
      "metadata": {
        "id": "PKxNPScXHhfT"
      },
      "source": [
        ""
      ],
      "execution_count": null,
      "outputs": []
    }
  ]
}